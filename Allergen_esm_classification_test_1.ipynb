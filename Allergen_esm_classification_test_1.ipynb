{
  "cells": [
    {
      "cell_type": "code",
      "execution_count": null,
      "metadata": {
        "id": "jdqzpG_U78GR",
        "outputId": "74ceafb0-d36b-42d5-c0f3-18cb3a513c5c"
      },
      "outputs": [
        {
          "name": "stdout",
          "output_type": "stream",
          "text": [
            "Defaulting to user installation because normal site-packages is not writeable\n",
            "Requirement already satisfied: fair-esm in /home/molecular16/.local/lib/python3.11/site-packages (2.0.0)\n",
            "Requirement already satisfied: torch in /home/molecular16/.local/lib/python3.11/site-packages (2.7.1)\n",
            "Requirement already satisfied: filelock in /home/molecular16/anaconda3/lib/python3.11/site-packages (from torch) (3.9.0)\n",
            "Requirement already satisfied: typing-extensions>=4.10.0 in /home/molecular16/.local/lib/python3.11/site-packages (from torch) (4.14.1)\n",
            "Requirement already satisfied: sympy>=1.13.3 in /home/molecular16/.local/lib/python3.11/site-packages (from torch) (1.14.0)\n",
            "Requirement already satisfied: networkx in /home/molecular16/anaconda3/lib/python3.11/site-packages (from torch) (3.1)\n",
            "Requirement already satisfied: jinja2 in /home/molecular16/anaconda3/lib/python3.11/site-packages (from torch) (3.1.2)\n",
            "Requirement already satisfied: fsspec in /home/molecular16/anaconda3/lib/python3.11/site-packages (from torch) (2023.4.0)\n",
            "Requirement already satisfied: nvidia-cuda-nvrtc-cu12==12.6.77 in /home/molecular16/.local/lib/python3.11/site-packages (from torch) (12.6.77)\n",
            "Requirement already satisfied: nvidia-cuda-runtime-cu12==12.6.77 in /home/molecular16/.local/lib/python3.11/site-packages (from torch) (12.6.77)\n",
            "Requirement already satisfied: nvidia-cuda-cupti-cu12==12.6.80 in /home/molecular16/.local/lib/python3.11/site-packages (from torch) (12.6.80)\n",
            "Requirement already satisfied: nvidia-cudnn-cu12==9.5.1.17 in /home/molecular16/.local/lib/python3.11/site-packages (from torch) (9.5.1.17)\n",
            "Requirement already satisfied: nvidia-cublas-cu12==12.6.4.1 in /home/molecular16/.local/lib/python3.11/site-packages (from torch) (12.6.4.1)\n",
            "Requirement already satisfied: nvidia-cufft-cu12==11.3.0.4 in /home/molecular16/.local/lib/python3.11/site-packages (from torch) (11.3.0.4)\n",
            "Requirement already satisfied: nvidia-curand-cu12==10.3.7.77 in /home/molecular16/.local/lib/python3.11/site-packages (from torch) (10.3.7.77)\n",
            "Requirement already satisfied: nvidia-cusolver-cu12==11.7.1.2 in /home/molecular16/.local/lib/python3.11/site-packages (from torch) (11.7.1.2)\n",
            "Requirement already satisfied: nvidia-cusparse-cu12==12.5.4.2 in /home/molecular16/.local/lib/python3.11/site-packages (from torch) (12.5.4.2)\n",
            "Requirement already satisfied: nvidia-cusparselt-cu12==0.6.3 in /home/molecular16/.local/lib/python3.11/site-packages (from torch) (0.6.3)\n",
            "Requirement already satisfied: nvidia-nccl-cu12==2.26.2 in /home/molecular16/.local/lib/python3.11/site-packages (from torch) (2.26.2)\n",
            "Requirement already satisfied: nvidia-nvtx-cu12==12.6.77 in /home/molecular16/.local/lib/python3.11/site-packages (from torch) (12.6.77)\n",
            "Requirement already satisfied: nvidia-nvjitlink-cu12==12.6.85 in /home/molecular16/.local/lib/python3.11/site-packages (from torch) (12.6.85)\n",
            "Requirement already satisfied: nvidia-cufile-cu12==1.11.1.6 in /home/molecular16/.local/lib/python3.11/site-packages (from torch) (1.11.1.6)\n",
            "Requirement already satisfied: triton==3.3.1 in /home/molecular16/.local/lib/python3.11/site-packages (from torch) (3.3.1)\n",
            "Requirement already satisfied: setuptools>=40.8.0 in /home/molecular16/anaconda3/lib/python3.11/site-packages (from triton==3.3.1->torch) (68.0.0)\n",
            "Requirement already satisfied: mpmath<1.4,>=1.1.0 in /home/molecular16/anaconda3/lib/python3.11/site-packages (from sympy>=1.13.3->torch) (1.3.0)\n",
            "Requirement already satisfied: MarkupSafe>=2.0 in /home/molecular16/anaconda3/lib/python3.11/site-packages (from jinja2->torch) (2.1.1)\n"
          ]
        }
      ],
      "source": [
        "!pip install fair-esm torch"
      ]
    },
    {
      "cell_type": "code",
      "execution_count": null,
      "metadata": {
        "id": "9Ng1VNIh8GP5",
        "outputId": "94be2a41-dabc-4e42-fd97-dd4ee6b6e6da"
      },
      "outputs": [
        {
          "name": "stdout",
          "output_type": "stream",
          "text": [
            "False\n"
          ]
        }
      ],
      "source": [
        "import torch\n",
        "print(torch.cuda.is_available())"
      ]
    },
    {
      "cell_type": "code",
      "execution_count": null,
      "metadata": {
        "id": "7zXiWoP07zCl"
      },
      "outputs": [],
      "source": [
        "import torch.nn as nn\n",
        "import torch.nn.functional as F\n",
        "from torch.utils.data import Dataset, DataLoader\n",
        "import pandas as pd\n",
        "import numpy as np\n",
        "from tqdm import tqdm\n",
        "from sklearn.metrics import (\n",
        "    accuracy_score, precision_score, recall_score, f1_score,\n",
        "    matthews_corrcoef, cohen_kappa_score\n",
        ")\n",
        "import matplotlib.pyplot as plt\n",
        "import esm\n",
        "import torch\n",
        "from torch.optim.lr_scheduler import ReduceLROnPlateau, CosineAnnealingLR\n",
        "\n",
        "# Load ESM model\n",
        "esm_model, alphabet = esm.pretrained.esm2_t6_8M_UR50D()\n",
        "batch_converter = alphabet.get_batch_converter()\n",
        "esm_model.eval()\n",
        "\n",
        "# Dataset Class with data augmentation\n",
        "class PeptideDataset(Dataset):\n",
        "    def __init__(self, csv_file, augment=False):\n",
        "        df = pd.read_csv(csv_file)\n",
        "        self.sequences = df['sequence'].astype(str).tolist()\n",
        "        self.labels = df['Allergen'].tolist()\n",
        "        self.augment = augment\n",
        "\n",
        "    def __len__(self):\n",
        "        return len(self.sequences)\n",
        "\n",
        "    def __getitem__(self, idx):\n",
        "        seq = self.sequences[idx]\n",
        "        label = self.labels[idx]\n",
        "\n",
        "        # Simple data augmentation - reverse sequence\n",
        "        if self.augment and torch.rand(1).item() > 0.5:\n",
        "            seq = seq[::-1]\n",
        "\n",
        "        return seq, label\n",
        "\n",
        "# ESM Embedding Extractor with caching\n",
        "@torch.no_grad()\n",
        "def extract_esm_embeddings(sequences):\n",
        "    sequences_upper = [seq.upper() for seq in sequences]\n",
        "    data = [(\"seq\", seq) for seq in sequences_upper]\n",
        "    batch_labels, batch_strs, batch_tokens = batch_converter(data)\n",
        "    results = esm_model(batch_tokens, repr_layers=[6], return_contacts=False)\n",
        "    token_representations = results[\"representations\"][6]\n",
        "\n",
        "    embeddings = []\n",
        "    for i, seq in enumerate(sequences_upper):\n",
        "        emb = token_representations[i, 1:len(seq)+1].mean(0)\n",
        "        embeddings.append(emb)\n",
        "    return torch.stack(embeddings)\n",
        "\n",
        "# Improved TCN Blocks\n",
        "class Chomp1d(nn.Module):\n",
        "    def __init__(self, chomp_size):\n",
        "        super().__init__()\n",
        "        self.chomp_size = chomp_size\n",
        "\n",
        "    def forward(self, x):\n",
        "        return x[:, :, :-self.chomp_size].contiguous()\n",
        "\n",
        "class TemporalBlock(nn.Module):\n",
        "    def __init__(self, n_inputs, n_outputs, kernel_size, stride, dilation, padding, dropout=0.2):\n",
        "        super().__init__()\n",
        "        self.conv1 = nn.Conv1d(n_inputs, n_outputs, kernel_size,\n",
        "                              stride=stride, padding=padding, dilation=dilation)\n",
        "        self.chomp1 = Chomp1d(padding)\n",
        "        self.bn1 = nn.BatchNorm1d(n_outputs)\n",
        "        self.dropout1 = nn.Dropout(dropout)\n",
        "\n",
        "        self.conv2 = nn.Conv1d(n_outputs, n_outputs, kernel_size,\n",
        "                              stride=stride, padding=padding, dilation=dilation)\n",
        "        self.chomp2 = Chomp1d(padding)\n",
        "        self.bn2 = nn.BatchNorm1d(n_outputs)\n",
        "        self.dropout2 = nn.Dropout(dropout)\n",
        "\n",
        "        self.net = nn.Sequential(\n",
        "            self.conv1, self.chomp1, self.bn1, nn.GELU(), self.dropout1,\n",
        "            self.conv2, self.chomp2, self.bn2, nn.GELU(), self.dropout2\n",
        "        )\n",
        "        self.downsample = nn.Conv1d(n_inputs, n_outputs, 1) if n_inputs != n_outputs else None\n",
        "        self.init_weights()\n",
        "\n",
        "    def init_weights(self):\n",
        "        nn.init.kaiming_normal_(self.conv1.weight, mode='fan_in')  # removed nonlinearity\n",
        "        nn.init.kaiming_normal_(self.conv2.weight, mode='fan_in')  # removed nonlinearity\n",
        "        if self.downsample is not None:\n",
        "            nn.init.kaiming_normal_(self.downsample.weight, mode='fan_in')  # removed nonlinearity\n",
        "\n",
        "    def forward(self, x):\n",
        "        out = self.net(x)\n",
        "        res = x if self.downsample is None else self.downsample(x)\n",
        "        return F.gelu(out + res)\n",
        "\n",
        "class TCN(nn.Module):\n",
        "    def __init__(self, input_size, num_channels, kernel_size=3, dropout=0.2):\n",
        "        super().__init__()\n",
        "        layers = []\n",
        "        for i in range(len(num_channels)):\n",
        "            dilation_size = 2 ** i\n",
        "            in_channels = input_size if i == 0 else num_channels[i - 1]\n",
        "            out_channels = num_channels[i]\n",
        "            layers.append(\n",
        "                TemporalBlock(in_channels, out_channels, kernel_size, stride=1,\n",
        "                            dilation=dilation_size, padding=(kernel_size - 1) * dilation_size,\n",
        "                            dropout=dropout)\n",
        "            )\n",
        "        self.network = nn.Sequential(*layers)\n",
        "\n",
        "    def forward(self, x):\n",
        "        return self.network(x)\n",
        "\n",
        "# Improved Adaptive Feature Fusion\n",
        "class AdaptiveFusion(nn.Module):\n",
        "    def __init__(self, esm_dim, tcn_dim):\n",
        "        super().__init__()\n",
        "        self.fc_esm = nn.Sequential(\n",
        "            nn.Linear(esm_dim, esm_dim),\n",
        "            nn.LayerNorm(esm_dim),\n",
        "            nn.GELU()\n",
        "        )\n",
        "        self.fc_tcn = nn.Sequential(\n",
        "            nn.Linear(tcn_dim, esm_dim),\n",
        "            nn.LayerNorm(esm_dim),\n",
        "            nn.GELU()\n",
        "        )\n",
        "        self.gate = nn.Sequential(\n",
        "            nn.Linear(esm_dim * 2, esm_dim),\n",
        "            nn.Sigmoid()\n",
        "        )\n",
        "\n",
        "    def forward(self, esm_feat, tcn_feat):\n",
        "        esm_proj = self.fc_esm(esm_feat)\n",
        "        tcn_proj = self.fc_tcn(tcn_feat)\n",
        "\n",
        "        combined = torch.cat([esm_proj, tcn_proj], dim=1)\n",
        "        gate = self.gate(combined)\n",
        "\n",
        "        return gate * esm_proj + (1 - gate) * tcn_proj\n",
        "\n",
        "# Label Smoothing Cross Entropy\n",
        "class LabelSmoothingCrossEntropy(nn.Module):\n",
        "    def __init__(self, smoothing=0.1):\n",
        "        super().__init__()\n",
        "        self.smoothing = smoothing\n",
        "\n",
        "    def forward(self, x, target):\n",
        "        log_probs = F.log_softmax(x, dim=-1)\n",
        "        nll_loss = -log_probs.gather(dim=-1, index=target.unsqueeze(1))\n",
        "        nll_loss = nll_loss.squeeze(1)\n",
        "        smooth_loss = -log_probs.mean(dim=-1)\n",
        "        loss = (1.0 - self.smoothing) * nll_loss + self.smoothing * smooth_loss\n",
        "        return loss.mean()\n",
        "\n",
        "# Improved LSTM with LayerNorm and dropout\n",
        "class LayerNormLSTM(nn.Module):\n",
        "    def __init__(self, input_size, hidden_size, num_layers=1, dropout=0.2):\n",
        "        super().__init__()\n",
        "        self.input_size = input_size\n",
        "        self.hidden_size = hidden_size\n",
        "        self.num_layers = num_layers\n",
        "\n",
        "        # LSTM layers\n",
        "        self.lstm = nn.LSTM(input_size, hidden_size, num_layers,\n",
        "                           batch_first=True, dropout=dropout if num_layers > 1 else 0)\n",
        "\n",
        "        # Layer normalization\n",
        "        self.ln_i = nn.LayerNorm(hidden_size)\n",
        "        self.ln_h = nn.LayerNorm(hidden_size)\n",
        "        self.ln_c = nn.LayerNorm(hidden_size)\n",
        "\n",
        "    def forward(self, x):\n",
        "        # Initialize hidden state\n",
        "        h0 = torch.zeros(self.num_layers, x.size(0), self.hidden_size).to(x.device)\n",
        "        c0 = torch.zeros(self.num_layers, x.size(0), self.hidden_size).to(x.device)\n",
        "\n",
        "        # Forward propagate LSTM\n",
        "        out, (hn, cn) = self.lstm(x, (h0, c0))\n",
        "\n",
        "        # Apply layer normalization\n",
        "        hn = self.ln_h(hn)\n",
        "        cn = self.ln_c(cn)\n",
        "\n",
        "        return out, (hn, cn)\n",
        "\n",
        "# Complete Classifier Model with improvements\n",
        "class MultimodalClassifier(nn.Module):\n",
        "    def __init__(self, esm_dim=320, tcn_input=21, tcn_channels=[64, 128], lstm_hidden=128, num_classes=2):\n",
        "        super().__init__()\n",
        "\n",
        "        # TCN pathway\n",
        "        self.tcn = TCN(tcn_input, tcn_channels)\n",
        "\n",
        "        # Feature fusion\n",
        "        self.fusion = AdaptiveFusion(esm_dim, tcn_channels[-1])\n",
        "\n",
        "        # LSTM pathway with layer normalization\n",
        "        self.lstm = LayerNormLSTM(input_size=esm_dim, hidden_size=lstm_hidden,\n",
        "                                num_layers=3, dropout=0.3)\n",
        "\n",
        "        # Classifier head\n",
        "        self.classifier = nn.Sequential(\n",
        "            nn.Linear(lstm_hidden, lstm_hidden // 2),\n",
        "            nn.LayerNorm(lstm_hidden // 2),\n",
        "            nn.GELU(),\n",
        "            nn.Dropout(0.4),\n",
        "            nn.Linear(lstm_hidden // 2, num_classes)\n",
        "        )\n",
        "\n",
        "        # Initialize weights\n",
        "        self.init_weights()\n",
        "\n",
        "    def init_weights(self):\n",
        "        for name, param in self.named_parameters():\n",
        "            if 'weight' in name:\n",
        "                if param.dim() < 2:  # Skip initialization for 1D tensors\n",
        "                    continue\n",
        "                if 'lstm' in name.lower():\n",
        "                    nn.init.orthogonal_(param)\n",
        "                else:\n",
        "                    nn.init.kaiming_normal_(param, mode='fan_in')\n",
        "            elif 'bias' in name:\n",
        "                nn.init.constant_(param, 0)\n",
        "\n",
        "    def forward(self, esm_feats, onehot_seqs):\n",
        "        # TCN pathway\n",
        "        tcn_out = self.tcn(onehot_seqs.permute(0, 2, 1))\n",
        "        tcn_summary = torch.mean(tcn_out, dim=2)  # Global pooling\n",
        "\n",
        "        # Feature fusion\n",
        "        fused = self.fusion(esm_feats, tcn_summary)\n",
        "\n",
        "        # Prepare LSTM input (repeat fused features to simulate sequence)\n",
        "        lstm_input = fused.unsqueeze(1).repeat(1, 10, 1)\n",
        "\n",
        "        # LSTM pathway\n",
        "        lstm_out, _ = self.lstm(lstm_input)\n",
        "\n",
        "        # Classifier\n",
        "        out = self.classifier(lstm_out[:, -1])\n",
        "        return out\n",
        "\n",
        "# Improved training function with gradient clipping, warmup, and more\n",
        "def train_model(model, train_loader, val_loader, criterion, optimizer, num_epochs=50,\n",
        "               patience=5, grad_clip=1.0, grad_accum_steps=4):\n",
        "    history = {\"train_loss\": [], \"val_loss\": []}\n",
        "    best_val_loss = float('inf')\n",
        "    epochs_no_improve = 0\n",
        "\n",
        "    # Learning rate schedulers\n",
        "    warmup_scheduler = torch.optim.lr_scheduler.LambdaLR(\n",
        "        optimizer, lambda epoch: min(1.0, (epoch + 1) / 10))\n",
        "    reduce_lr = ReduceLROnPlateau(optimizer, 'min', patience=2, factor=0.5)\n",
        "\n",
        "    for epoch in range(num_epochs):\n",
        "        model.train()\n",
        "        train_loss = 0\n",
        "        optimizer.zero_grad()\n",
        "\n",
        "        for i, (sequences, labels) in enumerate(tqdm(train_loader)):\n",
        "            esm_feats = extract_esm_embeddings(sequences)\n",
        "            onehot_seqs = sequence_to_onehot(sequences).float()\n",
        "            labels = torch.tensor(labels).long()\n",
        "\n",
        "            outputs = model(esm_feats, onehot_seqs)\n",
        "            loss = criterion(outputs, labels) / grad_accum_steps\n",
        "            loss.backward()\n",
        "\n",
        "            train_loss += loss.item() * grad_accum_steps\n",
        "\n",
        "            # Gradient accumulation\n",
        "            if (i + 1) % grad_accum_steps == 0 or (i + 1) == len(train_loader):\n",
        "                # Gradient clipping\n",
        "                nn.utils.clip_grad_norm_(model.parameters(), grad_clip)\n",
        "                optimizer.step()\n",
        "                optimizer.zero_grad()\n",
        "\n",
        "        train_loss /= len(train_loader)\n",
        "        history[\"train_loss\"].append(train_loss)\n",
        "\n",
        "        # Validation\n",
        "        model.eval()\n",
        "        val_loss = 0\n",
        "        with torch.no_grad():\n",
        "            for sequences, labels in val_loader:\n",
        "                esm_feats = extract_esm_embeddings(sequences)\n",
        "                onehot_seqs = sequence_to_onehot(sequences).float()\n",
        "                labels = torch.tensor(labels).long()\n",
        "\n",
        "                outputs = model(esm_feats, onehot_seqs)\n",
        "                loss = criterion(outputs, labels)\n",
        "                val_loss += loss.item()\n",
        "\n",
        "        val_loss /= len(val_loader)\n",
        "        history[\"val_loss\"].append(val_loss)\n",
        "\n",
        "        # Learning rate scheduling\n",
        "        if epoch < 10:  # Warmup phase\n",
        "            warmup_scheduler.step()\n",
        "        else:\n",
        "            reduce_lr.step(val_loss)\n",
        "\n",
        "        print(f\"Epoch {epoch+1}, Train Loss: {train_loss:.4f}, Val Loss: {val_loss:.4f}, LR: {optimizer.param_groups[0]['lr']:.2e}\")\n",
        "\n",
        "        # Early stopping\n",
        "        if val_loss < best_val_loss:\n",
        "            best_val_loss = val_loss\n",
        "            epochs_no_improve = 0\n",
        "            torch.save(model.state_dict(), 'best_model.pt')\n",
        "        else:\n",
        "            epochs_no_improve += 1\n",
        "            if epochs_no_improve == patience:\n",
        "                print(f'Early stopping at epoch {epoch+1}')\n",
        "                model.load_state_dict(torch.load('best_model.pt'))\n",
        "                break\n",
        "\n",
        "    return history\n",
        "\n",
        "# Utility Functions\n",
        "def sequence_to_onehot(sequences, max_len=100):\n",
        "    amino_acids = 'RHKDESTNQCUGPAVILMFYW'\n",
        "    aa_to_idx = {aa: i for i, aa in enumerate(amino_acids)}\n",
        "    onehot = torch.zeros(len(sequences), max_len, len(amino_acids))\n",
        "    for i, seq in enumerate(sequences):\n",
        "        seq_upper = seq.upper()\n",
        "        for j, aa in enumerate(seq_upper[:max_len]):\n",
        "            if aa in aa_to_idx:\n",
        "                onehot[i, j, aa_to_idx[aa]] = 1.0\n",
        "    return onehot\n",
        "\n",
        "def evaluate_model(model, data_loader):\n",
        "    all_preds, all_labels = [], []\n",
        "    with torch.no_grad():\n",
        "        for sequences, labels in data_loader:\n",
        "            esm_feats = extract_esm_embeddings(sequences)\n",
        "            onehot_seqs = sequence_to_onehot(sequences).float()\n",
        "            outputs = model(esm_feats, onehot_seqs)\n",
        "            preds = torch.argmax(outputs, dim=1).numpy()\n",
        "            all_preds.extend(preds)\n",
        "            all_labels.extend(labels)\n",
        "\n",
        "    metrics = {\n",
        "        \"Accuracy\": accuracy_score(all_labels, all_preds),\n",
        "        \"Precision\": precision_score(all_labels, all_preds),\n",
        "        \"Recall\": recall_score(all_labels, all_preds),\n",
        "        \"F1-score\": f1_score(all_labels, all_preds),\n",
        "        \"MCC\": matthews_corrcoef(all_labels, all_preds),\n",
        "        \"Cohen's Kappa\": cohen_kappa_score(all_labels, all_preds)\n",
        "    }\n",
        "\n",
        "    for name, value in metrics.items():\n",
        "        print(f\"{name}: {value:.4f}\")\n",
        "\n",
        "    return metrics\n",
        "\n",
        "def plot_history(history):\n",
        "    plt.figure(figsize=(12, 5))\n",
        "    plt.subplot(1, 2, 1)\n",
        "    plt.plot(history[\"train_loss\"], label=\"Train Loss\")\n",
        "    plt.plot(history[\"val_loss\"], label=\"Val Loss\")\n",
        "    plt.xlabel(\"Epoch\")\n",
        "    plt.ylabel(\"Loss\")\n",
        "    plt.legend()\n",
        "    plt.title(\"Training/Validation Loss\")\n",
        "    plt.show()"
      ]
    },
    {
      "cell_type": "code",
      "execution_count": null,
      "metadata": {
        "id": "SRWmKSOJ75z6",
        "outputId": "f976d1d3-5a1a-4060-facc-a34591703502"
      },
      "outputs": [
        {
          "name": "stderr",
          "output_type": "stream",
          "text": [
            "  0%|                                                  | 0/2000 [00:00<?, ?it/s]/home/molecular16/.local/lib/python3.11/site-packages/torch/utils/data/dataloader.py:665: UserWarning: 'pin_memory' argument is set as true but no accelerator is found, then device pinned memory won't be used.\n",
            "  warnings.warn(warn_msg)\n",
            "/tmp/ipykernel_3983734/783620447.py:267: UserWarning: To copy construct from a tensor, it is recommended to use sourceTensor.detach().clone() or sourceTensor.detach().clone().requires_grad_(True), rather than torch.tensor(sourceTensor).\n",
            "  labels = torch.tensor(labels).long()\n",
            "100%|███████████████████████████████████████| 2000/2000 [01:17<00:00, 25.67it/s]\n",
            "/tmp/ipykernel_3983734/783620447.py:292: UserWarning: To copy construct from a tensor, it is recommended to use sourceTensor.detach().clone() or sourceTensor.detach().clone().requires_grad_(True), rather than torch.tensor(sourceTensor).\n",
            "  labels = torch.tensor(labels).long()\n"
          ]
        },
        {
          "name": "stdout",
          "output_type": "stream",
          "text": [
            "Epoch 1, Train Loss: 0.3409, Val Loss: 0.2661, LR: 2.00e-05\n"
          ]
        },
        {
          "name": "stderr",
          "output_type": "stream",
          "text": [
            "100%|███████████████████████████████████████| 2000/2000 [01:14<00:00, 26.73it/s]\n"
          ]
        },
        {
          "name": "stdout",
          "output_type": "stream",
          "text": [
            "Epoch 2, Train Loss: 0.2684, Val Loss: 0.2491, LR: 3.00e-05\n"
          ]
        },
        {
          "name": "stderr",
          "output_type": "stream",
          "text": [
            "100%|███████████████████████████████████████| 2000/2000 [01:17<00:00, 25.90it/s]\n"
          ]
        },
        {
          "name": "stdout",
          "output_type": "stream",
          "text": [
            "Epoch 3, Train Loss: 0.2537, Val Loss: 0.2449, LR: 4.00e-05\n"
          ]
        },
        {
          "name": "stderr",
          "output_type": "stream",
          "text": [
            "100%|███████████████████████████████████████| 2000/2000 [01:13<00:00, 27.04it/s]\n"
          ]
        },
        {
          "name": "stdout",
          "output_type": "stream",
          "text": [
            "Epoch 4, Train Loss: 0.2452, Val Loss: 0.2348, LR: 5.00e-05\n"
          ]
        },
        {
          "name": "stderr",
          "output_type": "stream",
          "text": [
            "100%|███████████████████████████████████████| 2000/2000 [01:15<00:00, 26.66it/s]\n"
          ]
        },
        {
          "name": "stdout",
          "output_type": "stream",
          "text": [
            "Epoch 5, Train Loss: 0.2361, Val Loss: 0.2225, LR: 6.00e-05\n"
          ]
        },
        {
          "name": "stderr",
          "output_type": "stream",
          "text": [
            "100%|███████████████████████████████████████| 2000/2000 [01:15<00:00, 26.60it/s]\n"
          ]
        },
        {
          "name": "stdout",
          "output_type": "stream",
          "text": [
            "Epoch 6, Train Loss: 0.2303, Val Loss: 0.2373, LR: 7.00e-05\n"
          ]
        },
        {
          "name": "stderr",
          "output_type": "stream",
          "text": [
            "100%|███████████████████████████████████████| 2000/2000 [01:14<00:00, 26.92it/s]\n"
          ]
        },
        {
          "name": "stdout",
          "output_type": "stream",
          "text": [
            "Epoch 7, Train Loss: 0.2254, Val Loss: 0.2199, LR: 8.00e-05\n"
          ]
        },
        {
          "name": "stderr",
          "output_type": "stream",
          "text": [
            "100%|███████████████████████████████████████| 2000/2000 [01:15<00:00, 26.32it/s]\n"
          ]
        },
        {
          "name": "stdout",
          "output_type": "stream",
          "text": [
            "Epoch 8, Train Loss: 0.2233, Val Loss: 0.2327, LR: 9.00e-05\n"
          ]
        },
        {
          "name": "stderr",
          "output_type": "stream",
          "text": [
            "100%|███████████████████████████████████████| 2000/2000 [01:16<00:00, 26.22it/s]\n"
          ]
        },
        {
          "name": "stdout",
          "output_type": "stream",
          "text": [
            "Epoch 9, Train Loss: 0.2191, Val Loss: 0.2101, LR: 1.00e-04\n"
          ]
        },
        {
          "name": "stderr",
          "output_type": "stream",
          "text": [
            "100%|███████████████████████████████████████| 2000/2000 [01:17<00:00, 25.80it/s]\n"
          ]
        },
        {
          "name": "stdout",
          "output_type": "stream",
          "text": [
            "Epoch 10, Train Loss: 0.2182, Val Loss: 0.2240, LR: 1.00e-04\n"
          ]
        },
        {
          "name": "stderr",
          "output_type": "stream",
          "text": [
            "100%|███████████████████████████████████████| 2000/2000 [01:17<00:00, 25.78it/s]\n"
          ]
        },
        {
          "name": "stdout",
          "output_type": "stream",
          "text": [
            "Epoch 11, Train Loss: 0.2152, Val Loss: 0.2401, LR: 1.00e-04\n"
          ]
        },
        {
          "name": "stderr",
          "output_type": "stream",
          "text": [
            "100%|███████████████████████████████████████| 2000/2000 [01:15<00:00, 26.45it/s]\n"
          ]
        },
        {
          "name": "stdout",
          "output_type": "stream",
          "text": [
            "Epoch 12, Train Loss: 0.2119, Val Loss: 0.2066, LR: 1.00e-04\n"
          ]
        },
        {
          "name": "stderr",
          "output_type": "stream",
          "text": [
            "100%|███████████████████████████████████████| 2000/2000 [01:16<00:00, 26.07it/s]\n"
          ]
        },
        {
          "name": "stdout",
          "output_type": "stream",
          "text": [
            "Epoch 13, Train Loss: 0.2106, Val Loss: 0.2103, LR: 1.00e-04\n"
          ]
        },
        {
          "name": "stderr",
          "output_type": "stream",
          "text": [
            "100%|███████████████████████████████████████| 2000/2000 [01:17<00:00, 25.79it/s]\n"
          ]
        },
        {
          "name": "stdout",
          "output_type": "stream",
          "text": [
            "Epoch 14, Train Loss: 0.2102, Val Loss: 0.2058, LR: 1.00e-04\n"
          ]
        },
        {
          "name": "stderr",
          "output_type": "stream",
          "text": [
            "100%|███████████████████████████████████████| 2000/2000 [01:15<00:00, 26.33it/s]\n"
          ]
        },
        {
          "name": "stdout",
          "output_type": "stream",
          "text": [
            "Epoch 15, Train Loss: 0.2079, Val Loss: 0.2100, LR: 1.00e-04\n"
          ]
        },
        {
          "name": "stderr",
          "output_type": "stream",
          "text": [
            "100%|███████████████████████████████████████| 2000/2000 [01:19<00:00, 25.27it/s]\n"
          ]
        },
        {
          "name": "stdout",
          "output_type": "stream",
          "text": [
            "Epoch 16, Train Loss: 0.2081, Val Loss: 0.2069, LR: 1.00e-04\n"
          ]
        },
        {
          "name": "stderr",
          "output_type": "stream",
          "text": [
            "100%|███████████████████████████████████████| 2000/2000 [01:17<00:00, 25.95it/s]\n"
          ]
        },
        {
          "name": "stdout",
          "output_type": "stream",
          "text": [
            "Epoch 17, Train Loss: 0.2068, Val Loss: 0.2022, LR: 1.00e-04\n"
          ]
        },
        {
          "name": "stderr",
          "output_type": "stream",
          "text": [
            "100%|███████████████████████████████████████| 2000/2000 [01:17<00:00, 25.67it/s]\n"
          ]
        },
        {
          "name": "stdout",
          "output_type": "stream",
          "text": [
            "Epoch 18, Train Loss: 0.2070, Val Loss: 0.2013, LR: 1.00e-04\n"
          ]
        },
        {
          "name": "stderr",
          "output_type": "stream",
          "text": [
            "100%|███████████████████████████████████████| 2000/2000 [01:16<00:00, 26.17it/s]\n"
          ]
        },
        {
          "name": "stdout",
          "output_type": "stream",
          "text": [
            "Epoch 19, Train Loss: 0.2063, Val Loss: 0.2021, LR: 1.00e-04\n"
          ]
        },
        {
          "name": "stderr",
          "output_type": "stream",
          "text": [
            "100%|███████████████████████████████████████| 2000/2000 [01:17<00:00, 25.87it/s]\n"
          ]
        },
        {
          "name": "stdout",
          "output_type": "stream",
          "text": [
            "Epoch 20, Train Loss: 0.2056, Val Loss: 0.1998, LR: 1.00e-04\n"
          ]
        },
        {
          "name": "stderr",
          "output_type": "stream",
          "text": [
            "100%|███████████████████████████████████████| 2000/2000 [01:17<00:00, 25.95it/s]\n"
          ]
        },
        {
          "name": "stdout",
          "output_type": "stream",
          "text": [
            "Epoch 21, Train Loss: 0.2046, Val Loss: 0.2017, LR: 1.00e-04\n"
          ]
        },
        {
          "name": "stderr",
          "output_type": "stream",
          "text": [
            "100%|███████████████████████████████████████| 2000/2000 [01:15<00:00, 26.37it/s]\n"
          ]
        },
        {
          "name": "stdout",
          "output_type": "stream",
          "text": [
            "Epoch 22, Train Loss: 0.2049, Val Loss: 0.2066, LR: 1.00e-04\n"
          ]
        },
        {
          "name": "stderr",
          "output_type": "stream",
          "text": [
            "100%|███████████████████████████████████████| 2000/2000 [01:19<00:00, 25.14it/s]\n"
          ]
        },
        {
          "name": "stdout",
          "output_type": "stream",
          "text": [
            "Epoch 23, Train Loss: 0.2049, Val Loss: 0.2074, LR: 5.00e-05\n"
          ]
        },
        {
          "name": "stderr",
          "output_type": "stream",
          "text": [
            "100%|███████████████████████████████████████| 2000/2000 [01:18<00:00, 25.45it/s]\n"
          ]
        },
        {
          "name": "stdout",
          "output_type": "stream",
          "text": [
            "Epoch 24, Train Loss: 0.2031, Val Loss: 0.2032, LR: 5.00e-05\n"
          ]
        },
        {
          "name": "stderr",
          "output_type": "stream",
          "text": [
            "100%|███████████████████████████████████████| 2000/2000 [01:18<00:00, 25.51it/s]\n"
          ]
        },
        {
          "name": "stdout",
          "output_type": "stream",
          "text": [
            "Epoch 25, Train Loss: 0.2026, Val Loss: 0.2000, LR: 5.00e-05\n"
          ]
        },
        {
          "name": "stderr",
          "output_type": "stream",
          "text": [
            "100%|███████████████████████████████████████| 2000/2000 [01:17<00:00, 25.77it/s]\n"
          ]
        },
        {
          "name": "stdout",
          "output_type": "stream",
          "text": [
            "Epoch 26, Train Loss: 0.2030, Val Loss: 0.2020, LR: 2.50e-05\n"
          ]
        },
        {
          "name": "stderr",
          "output_type": "stream",
          "text": [
            "100%|███████████████████████████████████████| 2000/2000 [01:18<00:00, 25.57it/s]\n"
          ]
        },
        {
          "name": "stdout",
          "output_type": "stream",
          "text": [
            "Epoch 27, Train Loss: 0.2019, Val Loss: 0.2032, LR: 2.50e-05\n"
          ]
        },
        {
          "name": "stderr",
          "output_type": "stream",
          "text": [
            "100%|███████████████████████████████████████| 2000/2000 [01:17<00:00, 25.73it/s]\n"
          ]
        },
        {
          "name": "stdout",
          "output_type": "stream",
          "text": [
            "Epoch 28, Train Loss: 0.2023, Val Loss: 0.2014, LR: 2.50e-05\n"
          ]
        },
        {
          "name": "stderr",
          "output_type": "stream",
          "text": [
            "100%|███████████████████████████████████████| 2000/2000 [01:14<00:00, 26.92it/s]\n"
          ]
        },
        {
          "name": "stdout",
          "output_type": "stream",
          "text": [
            "Epoch 29, Train Loss: 0.2022, Val Loss: 0.2022, LR: 1.25e-05\n"
          ]
        },
        {
          "name": "stderr",
          "output_type": "stream",
          "text": [
            "100%|███████████████████████████████████████| 2000/2000 [01:17<00:00, 25.89it/s]\n"
          ]
        },
        {
          "name": "stdout",
          "output_type": "stream",
          "text": [
            "Epoch 30, Train Loss: 0.2017, Val Loss: 0.2034, LR: 1.25e-05\n",
            "Early stopping at epoch 30\n"
          ]
        },
        {
          "data": {
            "image/png": "[encoded data removed]",
            "text/plain": [
              "<Figure size 1200x500 with 1 Axes>"
            ]
          },
          "metadata": {},
          "output_type": "display_data"
        },
        {
          "name": "stdout",
          "output_type": "stream",
          "text": [
            "\n",
            "Train Set Evaluation:\n",
            "Accuracy: 0.9996\n",
            "Precision: 0.9995\n",
            "Recall: 0.9996\n",
            "F1-score: 0.9996\n",
            "MCC: 0.9991\n",
            "Cohen's Kappa: 0.9991\n",
            "\n",
            "Validation Set Evaluation:\n"
          ]
        },
        {
          "name": "stderr",
          "output_type": "stream",
          "text": [
            "/home/molecular16/.local/lib/python3.11/site-packages/torch/utils/data/dataloader.py:665: UserWarning: 'pin_memory' argument is set as true but no accelerator is found, then device pinned memory won't be used.\n",
            "  warnings.warn(warn_msg)\n"
          ]
        },
        {
          "name": "stdout",
          "output_type": "stream",
          "text": [
            "Accuracy: 0.9995\n",
            "Precision: 0.9995\n",
            "Recall: 0.9995\n",
            "F1-score: 0.9995\n",
            "MCC: 0.9990\n",
            "Cohen's Kappa: 0.9990\n"
          ]
        },
        {
          "name": "stderr",
          "output_type": "stream",
          "text": [
            "/home/molecular16/.local/lib/python3.11/site-packages/torch/utils/data/dataloader.py:665: UserWarning: 'pin_memory' argument is set as true but no accelerator is found, then device pinned memory won't be used.\n",
            "  warnings.warn(warn_msg)\n"
          ]
        },
        {
          "data": {
            "image/png": "[encoded data removed]",
            "text/plain": [
              "<Figure size 600x600 with 1 Axes>"
            ]
          },
          "metadata": {},
          "output_type": "display_data"
        },
        {
          "name": "stderr",
          "output_type": "stream",
          "text": [
            "/home/molecular16/.local/lib/python3.11/site-packages/torch/utils/data/dataloader.py:665: UserWarning: 'pin_memory' argument is set as true but no accelerator is found, then device pinned memory won't be used.\n",
            "  warnings.warn(warn_msg)\n"
          ]
        },
        {
          "data": {
            "image/png": "[encoded data removed]",
            "text/plain": [
              "<Figure size 600x600 with 1 Axes>"
            ]
          },
          "metadata": {},
          "output_type": "display_data"
        }
      ],
      "source": [
        "# Main Execution\n",
        "if __name__ == \"__main__\":\n",
        "    # Initialize with data augmentation for training\n",
        "    full_dataset = PeptideDataset(\"Allergen_combined.csv\", augment=True)\n",
        "\n",
        "    # Stratified split\n",
        "    from sklearn.model_selection import train_test_split\n",
        "    indices = list(range(len(full_dataset)))\n",
        "    labels = [full_dataset[i][1] for i in indices]\n",
        "    train_idx, val_idx = train_test_split(indices, test_size=0.2, stratify=labels, random_state=42)\n",
        "\n",
        "    train_dataset = torch.utils.data.Subset(full_dataset, train_idx)\n",
        "    val_dataset = torch.utils.data.Subset(\n",
        "        PeptideDataset(\"Allergen_combined.csv\", augment=False),\n",
        "        val_idx\n",
        "    )\n",
        "\n",
        "    train_loader = DataLoader(train_dataset, batch_size=16, shuffle=True, num_workers=4, pin_memory=True)\n",
        "    val_loader = DataLoader(val_dataset, batch_size=16, num_workers=4, pin_memory=True)\n",
        "\n",
        "    model = MultimodalClassifier()\n",
        "\n",
        "    # Use label smoothing and gradient clipping\n",
        "    criterion = LabelSmoothingCrossEntropy(smoothing=0.1)\n",
        "    optimizer = torch.optim.AdamW(model.parameters(), lr=1e-4, weight_decay=1e-4)\n",
        "\n",
        "    history = train_model(\n",
        "        model, train_loader, val_loader, criterion, optimizer,\n",
        "        num_epochs=100, patience=10, grad_clip=1.0, grad_accum_steps=2\n",
        "    )\n",
        "\n",
        "    plot_history(history)\n",
        "\n",
        "    print(\"\\nTrain Set Evaluation:\")\n",
        "    train_metrics = evaluate_model(model, train_loader)\n",
        "\n",
        "    print(\"\\nValidation Set Evaluation:\")\n",
        "    val_metrics = evaluate_model(model, val_loader)\n",
        "\n",
        "    # Confusion matrix plotting\n",
        "    from sklearn.metrics import confusion_matrix\n",
        "    import seaborn as sns\n",
        "\n",
        "    def plot_confusion_matrix(model, data_loader, title):\n",
        "        all_preds, all_labels = [], []\n",
        "        with torch.no_grad():\n",
        "            for sequences, labels in data_loader:\n",
        "                esm_feats = extract_esm_embeddings(sequences)\n",
        "                onehot_seqs = sequence_to_onehot(sequences).float()\n",
        "                outputs = model(esm_feats, onehot_seqs)\n",
        "                preds = torch.argmax(outputs, dim=1).numpy()\n",
        "                all_preds.extend(preds)\n",
        "                all_labels.extend(labels)\n",
        "\n",
        "        cm = confusion_matrix(all_labels, all_preds)\n",
        "        plt.figure(figsize=(6, 6))\n",
        "        sns.heatmap(cm, annot=True, fmt='d', cmap='Blues', cbar=False)\n",
        "        plt.xlabel(\"Predicted Label\")\n",
        "        plt.ylabel(\"True Label\")\n",
        "        plt.title(title)\n",
        "        plt.show()\n",
        "\n",
        "    plot_confusion_matrix(model, train_loader, \"Confusion Matrix - Training Set\")\n",
        "    plot_confusion_matrix(model, val_loader, \"Confusion Matrix - Validation Set\")"
      ]
    },
    {
      "cell_type": "code",
      "execution_count": null,
      "metadata": {
        "id": "QEbC7txn72IX",
        "outputId": "4131d4c3-139b-4867-dec6-c246759dd31b"
      },
      "outputs": [
        {
          "name": "stderr",
          "output_type": "stream",
          "text": [
            "/home/molecular16/.local/lib/python3.11/site-packages/torch/utils/data/dataloader.py:665: UserWarning: 'pin_memory' argument is set as true but no accelerator is found, then device pinned memory won't be used.\n",
            "  warnings.warn(warn_msg)\n"
          ]
        },
        {
          "data": {
            "image/png": "[encoded data removed]",
            "text/plain": [
              "<Figure size 600x600 with 1 Axes>"
            ]
          },
          "metadata": {},
          "output_type": "display_data"
        },
        {
          "name": "stderr",
          "output_type": "stream",
          "text": [
            "/home/molecular16/.local/lib/python3.11/site-packages/torch/utils/data/dataloader.py:665: UserWarning: 'pin_memory' argument is set as true but no accelerator is found, then device pinned memory won't be used.\n",
            "  warnings.warn(warn_msg)\n"
          ]
        },
        {
          "data": {
            "image/png": "[encoded data removed]",
            "text/plain": [
              "<Figure size 600x600 with 1 Axes>"
            ]
          },
          "metadata": {},
          "output_type": "display_data"
        }
      ],
      "source": [
        "# Confusion Matrix\n",
        "from sklearn.metrics import confusion_matrix\n",
        "import seaborn as sns\n",
        "\n",
        "def plot_confusion_matrix(model, data_loader, title):\n",
        "    all_preds, all_labels = [], []\n",
        "    with torch.no_grad():\n",
        "        for sequences, labels in data_loader:\n",
        "            esm_feats = extract_esm_embeddings(sequences)\n",
        "            onehot_seqs = sequence_to_onehot(sequences).float()\n",
        "            outputs = model(esm_feats, onehot_seqs)\n",
        "            preds = torch.argmax(outputs, dim=1).numpy()\n",
        "            all_preds.extend(preds)\n",
        "            all_labels.extend(labels)\n",
        "\n",
        "    cm = confusion_matrix(all_labels, all_preds)\n",
        "    plt.figure(figsize=(6, 6))\n",
        "    sns.heatmap(cm, annot=True, fmt='d', cmap='Blues', cbar=False)\n",
        "    plt.xlabel(\"Predicted Label\")\n",
        "    plt.ylabel(\"True Label\")\n",
        "    plt.title(title)\n",
        "    plt.show()\n",
        "\n",
        "plot_confusion_matrix(model, train_loader, \"Confusion Matrix - Training Set\")\n",
        "plot_confusion_matrix(model, val_loader, \"Confusion Matrix - Validation Set\")\n"
      ]
    },
    {
      "cell_type": "code",
      "execution_count": null,
      "metadata": {
        "id": "UEZ4znu4UA9F",
        "outputId": "32d908de-7a47-4a0d-94a3-6ce9856649b8"
      },
      "outputs": [
        {
          "name": "stdout",
          "output_type": "stream",
          "text": [
            "Allergen\n",
            "1.0    20000\n",
            "0.0    20000\n",
            "Name: count, dtype: int64\n"
          ]
        }
      ],
      "source": [
        "import pandas as df\n",
        "df = pd.read_csv(\"Allergen_combined.csv\")\n",
        "toxin_counts = df['Allergen'].value_counts()\n",
        "print(toxin_counts)"
      ]
    },
    {
      "cell_type": "code",
      "execution_count": null,
      "metadata": {
        "id": "BSVxhlTLUX6Z"
      },
      "outputs": [],
      "source": [
        "# Save the trained model\n",
        "torch.save(model.state_dict(), 'Allergen_peptide_classifier.pth')"
      ]
    },
    {
      "cell_type": "code",
      "execution_count": null,
      "metadata": {
        "id": "ecrXE-pXUX1Y",
        "outputId": "0136dfe3-26b7-46e9-ee16-299b7e6154d4"
      },
      "outputs": [
        {
          "name": "stdout",
          "output_type": "stream",
          "text": [
            "Model loaded successfully!\n",
            "Predictions: tensor([0, 0])\n"
          ]
        }
      ],
      "source": [
        "# To open the trained model, you would load the state dictionary back into a model instance\n",
        "# First, instantiate a new model with the same architecture\n",
        "model = MultimodalClassifier()\n",
        "\n",
        "# Then, load the saved state dictionary\n",
        "model.load_state_dict(torch.load('Allergen_peptide_classifier.pth'))\n",
        "\n",
        "# Set the model to evaluation mode\n",
        "model.eval()\n",
        "\n",
        "print(\"Model loaded successfully!\")\n",
        "\n",
        "# You can now use loaded_model for inference on new data.\n",
        "# Example (assuming you have new_sequences):\n",
        "new_sequences = [\"ARGLAKL\", \"AAVVRR\"]\n",
        "new_esm_feats = extract_esm_embeddings(new_sequences)\n",
        "new_onehot_seqs = sequence_to_onehot(new_sequences).float()\n",
        "with torch.no_grad():\n",
        "     predictions = model(new_esm_feats, new_onehot_seqs)\n",
        "     predicted_classes = torch.argmax(predictions, dim=1)\n",
        "     print(\"Predictions:\", predicted_classes)"
      ]
    },
    {
      "cell_type": "code",
      "execution_count": null,
      "metadata": {
        "id": "lgUjvORpUX0b",
        "outputId": "defa326e-f548-4f4f-b9a1-da39f38aacd1"
      },
      "outputs": [
        {
          "name": "stdout",
          "output_type": "stream",
          "text": [
            "Defaulting to user installation because normal site-packages is not writeable\n",
            "Requirement already satisfied: lime in /home/molecular16/.local/lib/python3.11/site-packages (0.2.0.1)\n",
            "Requirement already satisfied: matplotlib in /home/molecular16/anaconda3/lib/python3.11/site-packages (from lime) (3.7.2)\n",
            "Requirement already satisfied: numpy in /home/molecular16/anaconda3/lib/python3.11/site-packages (from lime) (1.24.3)\n",
            "Requirement already satisfied: scipy in /home/molecular16/anaconda3/lib/python3.11/site-packages (from lime) (1.11.1)\n",
            "Requirement already satisfied: tqdm in /home/molecular16/anaconda3/lib/python3.11/site-packages (from lime) (4.65.0)\n",
            "Requirement already satisfied: scikit-learn>=0.18 in /home/molecular16/anaconda3/lib/python3.11/site-packages (from lime) (1.3.0)\n",
            "Requirement already satisfied: scikit-image>=0.12 in /home/molecular16/anaconda3/lib/python3.11/site-packages (from lime) (0.20.0)\n",
            "Requirement already satisfied: networkx>=2.8 in /home/molecular16/anaconda3/lib/python3.11/site-packages (from scikit-image>=0.12->lime) (3.1)\n",
            "Requirement already satisfied: pillow>=9.0.1 in /home/molecular16/anaconda3/lib/python3.11/site-packages (from scikit-image>=0.12->lime) (9.4.0)\n",
            "Requirement already satisfied: imageio>=2.4.1 in /home/molecular16/anaconda3/lib/python3.11/site-packages (from scikit-image>=0.12->lime) (2.31.1)\n",
            "Requirement already satisfied: tifffile>=2019.7.26 in /home/molecular16/anaconda3/lib/python3.11/site-packages (from scikit-image>=0.12->lime) (2023.4.12)\n",
            "Requirement already satisfied: PyWavelets>=1.1.1 in /home/molecular16/anaconda3/lib/python3.11/site-packages (from scikit-image>=0.12->lime) (1.4.1)\n",
            "Requirement already satisfied: packaging>=20.0 in /home/molecular16/anaconda3/lib/python3.11/site-packages (from scikit-image>=0.12->lime) (23.1)\n",
            "Requirement already satisfied: lazy_loader>=0.1 in /home/molecular16/anaconda3/lib/python3.11/site-packages (from scikit-image>=0.12->lime) (0.2)\n",
            "Requirement already satisfied: joblib>=1.1.1 in /home/molecular16/anaconda3/lib/python3.11/site-packages (from scikit-learn>=0.18->lime) (1.2.0)\n",
            "Requirement already satisfied: threadpoolctl>=2.0.0 in /home/molecular16/anaconda3/lib/python3.11/site-packages (from scikit-learn>=0.18->lime) (2.2.0)\n",
            "Requirement already satisfied: contourpy>=1.0.1 in /home/molecular16/anaconda3/lib/python3.11/site-packages (from matplotlib->lime) (1.0.5)\n",
            "Requirement already satisfied: cycler>=0.10 in /home/molecular16/anaconda3/lib/python3.11/site-packages (from matplotlib->lime) (0.11.0)\n",
            "Requirement already satisfied: fonttools>=4.22.0 in /home/molecular16/anaconda3/lib/python3.11/site-packages (from matplotlib->lime) (4.25.0)\n",
            "Requirement already satisfied: kiwisolver>=1.0.1 in /home/molecular16/anaconda3/lib/python3.11/site-packages (from matplotlib->lime) (1.4.4)\n",
            "Requirement already satisfied: pyparsing<3.1,>=2.3.1 in /home/molecular16/anaconda3/lib/python3.11/site-packages (from matplotlib->lime) (3.0.9)\n",
            "Requirement already satisfied: python-dateutil>=2.7 in /home/molecular16/anaconda3/lib/python3.11/site-packages (from matplotlib->lime) (2.8.2)\n",
            "Requirement already satisfied: six>=1.5 in /home/molecular16/anaconda3/lib/python3.11/site-packages (from python-dateutil>=2.7->matplotlib->lime) (1.16.0)\n"
          ]
        }
      ],
      "source": [
        "!pip install lime"
      ]
    },
    {
      "cell_type": "code",
      "execution_count": 1,
      "metadata": {
        "id": "-iobrzmaUXwZ",
        "outputId": "b46a900a-e3d1-4eec-cb61-49dabc29fa0d",
        "colab": {
          "base_uri": "https://localhost:8080/",
          "height": 383
        }
      },
      "outputs": [
        {
          "output_type": "error",
          "ename": "ModuleNotFoundError",
          "evalue": "No module named 'lime'",
          "traceback": [
            "\u001b[0;31m---------------------------------------------------------------------------\u001b[0m",
            "\u001b[0;31mModuleNotFoundError\u001b[0m                       Traceback (most recent call last)",
            "\u001b[0;32m/tmp/ipython-input-3688109497.py\u001b[0m in \u001b[0;36m<cell line: 0>\u001b[0;34m()\u001b[0m\n\u001b[0;32m----> 1\u001b[0;31m \u001b[0;32mfrom\u001b[0m \u001b[0mlime\u001b[0m\u001b[0;34m.\u001b[0m\u001b[0mlime_text\u001b[0m \u001b[0;32mimport\u001b[0m \u001b[0mLimeTextExplainer\u001b[0m\u001b[0;34m\u001b[0m\u001b[0;34m\u001b[0m\u001b[0m\n\u001b[0m\u001b[1;32m      2\u001b[0m \u001b[0;32mimport\u001b[0m \u001b[0mtorch\u001b[0m\u001b[0;34m.\u001b[0m\u001b[0mnn\u001b[0m\u001b[0;34m.\u001b[0m\u001b[0mfunctional\u001b[0m \u001b[0;32mas\u001b[0m \u001b[0mF\u001b[0m\u001b[0;34m\u001b[0m\u001b[0;34m\u001b[0m\u001b[0m\n\u001b[1;32m      3\u001b[0m \u001b[0;32mimport\u001b[0m \u001b[0mnumpy\u001b[0m \u001b[0;32mas\u001b[0m \u001b[0mnp\u001b[0m\u001b[0;34m\u001b[0m\u001b[0;34m\u001b[0m\u001b[0m\n\u001b[1;32m      4\u001b[0m \u001b[0;32mimport\u001b[0m \u001b[0mmatplotlib\u001b[0m\u001b[0;34m.\u001b[0m\u001b[0mpyplot\u001b[0m \u001b[0;32mas\u001b[0m \u001b[0mplt\u001b[0m\u001b[0;34m\u001b[0m\u001b[0;34m\u001b[0m\u001b[0m\n\u001b[1;32m      5\u001b[0m \u001b[0;32mimport\u001b[0m \u001b[0mpandas\u001b[0m \u001b[0;32mas\u001b[0m \u001b[0mpd\u001b[0m\u001b[0;34m\u001b[0m\u001b[0;34m\u001b[0m\u001b[0m\n",
            "\u001b[0;31mModuleNotFoundError\u001b[0m: No module named 'lime'",
            "",
            "\u001b[0;31m---------------------------------------------------------------------------\u001b[0;32m\nNOTE: If your import is failing due to a missing package, you can\nmanually install dependencies using either !pip or !apt.\n\nTo view examples of installing some common dependencies, click the\n\"Open Examples\" button below.\n\u001b[0;31m---------------------------------------------------------------------------\u001b[0m\n"
          ],
          "errorDetails": {
            "actions": [
              {
                "action": "open_url",
                "actionText": "Open Examples",
                "url": "/notebooks/snippets/importing_libraries.ipynb"
              }
            ]
          }
        }
      ],
      "source": [
        "from lime.lime_text import LimeTextExplainer\n",
        "import torch.nn.functional as F\n",
        "import numpy as np\n",
        "import matplotlib.pyplot as plt\n",
        "import pandas as pd\n",
        "\n",
        "# === Load dataset ===\n",
        "df = pd.read_csv(\"Allergen_test_1.csv\")\n",
        "df['sequence'] = df['sequence'].astype(str)\n",
        "df['label'] = df['Allergen']\n",
        "\n",
        "# Drop sequences with length smaller than 6 and create a new dataframe\n",
        "df = df[df['sequence'].str.len() >= 8].copy()\n",
        "\n",
        "# === Tokenization into k-mers ===\n",
        "def seq_to_kmers(seq, k=6):\n",
        "    return ' '.join([seq[i:i + k] for i in range(len(seq) - k + 1)])\n",
        "\n",
        "k = 6\n",
        "df['kmers'] = df['sequence'].apply(lambda seq: seq_to_kmers(seq, k))\n",
        "\n",
        "# === Helper to reconstruct full sequence from k-mers ===\n",
        "def kmers_to_seq(kmer_str, k=8):\n",
        "    kmers = kmer_str.split()\n",
        "    if not kmers:\n",
        "        return ''\n",
        "    return kmers[0] + ''.join([k[-1] for k in kmers[1:]])\n",
        "\n",
        "# === Prediction wrapper for LIME (accepts k-mer strings) ===\n",
        "class_names = ['non-Allergen', 'Allergen']\n",
        "\n",
        "def lime_predict_kmers(kmer_texts):\n",
        "    # Convert k-mer text back to raw sequences\n",
        "    sequences = [kmers_to_seq(text, k) for text in kmer_texts]\n",
        "\n",
        "    model.eval()\n",
        "    with torch.no_grad():\n",
        "        # Filter out invalid inputs\n",
        "        valid_sequences = [seq for seq in sequences if isinstance(seq, str) and len(seq) > 0]\n",
        "        if not valid_sequences:\n",
        "            return np.array([[0.5, 0.5]] * len(sequences))\n",
        "\n",
        "        # ESM and one-hot encodings\n",
        "        esm_feats = extract_esm_embeddings(valid_sequences)  # tensor [B, D]\n",
        "        onehot_seqs = sequence_to_onehot(valid_sequences).float()  # tensor [B, L, 4]\n",
        "        outputs = model(esm_feats, onehot_seqs)\n",
        "        probs = F.softmax(outputs, dim=1).cpu().numpy()\n",
        "\n",
        "        # Reassign to full array\n",
        "        full_probs = np.zeros((len(sequences), len(class_names)))\n",
        "        valid_idx = 0\n",
        "        for i, seq in enumerate(sequences):\n",
        "            if isinstance(seq, str) and len(seq) > 0:\n",
        "                full_probs[i] = probs[valid_idx]\n",
        "                valid_idx += 1\n",
        "            else:\n",
        "                full_probs[i] = np.array([0.5, 0.5])\n",
        "        return full_probs\n",
        "\n",
        "# === LIME explainer with whitespace as k-mer separator ===\n",
        "explainer = LimeTextExplainer(class_names=class_names, split_expression='\\\\s+')\n",
        "\n",
        "# === Select top-N high-confidence toxic sequences ===\n",
        "raw_sequences = df['sequence'].tolist()\n",
        "labels = df['label'].tolist()\n",
        "kmer_texts = df['kmers'].tolist()\n",
        "\n",
        "probs = lime_predict_kmers(kmer_texts)\n",
        "high_conf_ids = np.where((np.array(labels) == 1) & (probs[:, 1] > 0.8))[0]\n",
        "selected_ids = high_conf_ids[:40]\n",
        "\n",
        "# === Run LIME explanation ===\n",
        "for i, idx in enumerate(selected_ids):\n",
        "    kmer_input = kmer_texts[idx]\n",
        "    original_seq = df.iloc[idx]['sequence']\n",
        "\n",
        "    explanation = explainer.explain_instance(kmer_input, lime_predict_kmers, num_features=10, labels=[1], num_samples=1000)\n",
        "\n",
        "    print(f\"\\n🧬 Sequence {i+1}: {original_seq}\")\n",
        "    print(\"Top influential k-mers (toward Allergen):\")\n",
        "    for token, weight in explanation.as_list(label=1):\n",
        "        print(f\"  {token}: {weight:.4f}\")\n",
        "\n",
        "    # Highlight influential regions in the original sequence\n",
        "    highlighted = original_seq\n",
        "    sorted_kmers = sorted(explanation.as_list(label=1), key=lambda x: abs(x[1]), reverse=True)\n",
        "    for kmer, _ in sorted_kmers:\n",
        "        highlighted = highlighted.replace(kmer, f\"<{kmer}>\")\n",
        "    print(\"Highlighted:\", highlighted)\n",
        "\n",
        "    try:\n",
        "        explanation.show_in_notebook()\n",
        "        fig = explanation.as_pyplot_figure(label=1)\n",
        "        plt.title(f\"LIME Explanation for Sequence {i+1}\")\n",
        "        plt.show()\n",
        "    except Exception as e:\n",
        "        print(f\"Could not generate plot for sequence {i+1}: {e}\")"
      ]
    },
    {
      "cell_type": "code",
      "execution_count": null,
      "metadata": {
        "id": "KKI0QsD8UXvl"
      },
      "outputs": [],
      "source": [
        "from lime.lime_text import LimeTextExplainer\n",
        "import torch.nn.functional as F\n",
        "import numpy as np\n",
        "import matplotlib.pyplot as plt\n",
        "import pandas as pd\n",
        "\n",
        "# === Load dataset ===\n",
        "df = pd.read_csv(\"Allergen_test_1.csv\")\n",
        "df['sequence'] = df['sequence'].astype(str)\n",
        "df['label'] = df['Allergen']\n",
        "\n",
        "# === Tokenization into k-mers ===\n",
        "def seq_to_kmers(seq, k=8):\n",
        "    return ' '.join([seq[i:i + k] for i in range(len(seq) - k + 1)])\n",
        "\n",
        "k = 6\n",
        "df['kmers'] = df['sequence'].apply(lambda seq: seq_to_kmers(seq, k))\n",
        "\n",
        "# === Helper to reconstruct full sequence from k-mers ===\n",
        "def kmers_to_seq(kmer_str, k=8):\n",
        "    kmers = kmer_str.split()\n",
        "    if not kmers:\n",
        "        return ''\n",
        "    return kmers[0] + ''.join([k[-1] for k in kmers[1:]])\n",
        "\n",
        "# === Prediction wrapper for LIME (accepts k-mer strings) ===\n",
        "class_names = ['Allergen', 'non-Allergen']\n",
        "\n",
        "def lime_predict_kmers(kmer_texts):\n",
        "    # Convert k-mer text back to raw sequences\n",
        "    sequences = [kmers_to_seq(text, k) for text in kmer_texts]\n",
        "\n",
        "    model.eval()\n",
        "    with torch.no_grad():\n",
        "        # Filter out invalid inputs\n",
        "        valid_sequences = [seq for seq in sequences if isinstance(seq, str) and len(seq) > 0]\n",
        "        if not valid_sequences:\n",
        "            return np.array([[0.5, 0.5]] * len(sequences))\n",
        "\n",
        "        # ESM and one-hot encodings\n",
        "        esm_feats = extract_esm_embeddings(valid_sequences)  # tensor [B, D]\n",
        "        onehot_seqs = sequence_to_onehot(valid_sequences).float()  # tensor [B, L, 4]\n",
        "        outputs = model(esm_feats, onehot_seqs)\n",
        "        probs = F.softmax(outputs, dim=1).cpu().numpy()\n",
        "\n",
        "        # Reassign to full array\n",
        "        full_probs = np.zeros((len(sequences), len(class_names)))\n",
        "        valid_idx = 0\n",
        "        for i, seq in enumerate(sequences):\n",
        "            if isinstance(seq, str) and len(seq) > 0:\n",
        "                full_probs[i] = probs[valid_idx]\n",
        "                valid_idx += 1\n",
        "            else:\n",
        "                full_probs[i] = np.array([0.5, 0.5])\n",
        "        return full_probs\n",
        "\n",
        "# === LIME explainer with whitespace as k-mer separator ===\n",
        "explainer = LimeTextExplainer(class_names=class_names, split_expression='\\\\s+')\n",
        "\n",
        "# === Select top-N high-confidence toxic sequences ===\n",
        "raw_sequences = df['sequence'].tolist()\n",
        "labels = df['label'].tolist()\n",
        "kmer_texts = df['kmers'].tolist()\n",
        "\n",
        "probs = lime_predict_kmers(kmer_texts)\n",
        "high_conf_ids = np.where((np.array(labels) == 0) & (probs[:, 1] > 0.8))[0]\n",
        "selected_ids = high_conf_ids[:40]\n",
        "\n",
        "# === Run LIME explanation ===\n",
        "for i, idx in enumerate(selected_ids):\n",
        "    kmer_input = kmer_texts[idx]\n",
        "    original_seq = df.iloc[idx]['sequence']\n",
        "\n",
        "    explanation = explainer.explain_instance(kmer_input, lime_predict_kmers, num_features=10, labels=[0], num_samples=1000)\n",
        "\n",
        "    print(f\"\\n🧬 Sequence {i+1}: {original_seq}\")\n",
        "    print(\"Top influential k-mers (toward non-Allergen):\")\n",
        "    for token, weight in explanation.as_list(label=0):\n",
        "        print(f\"  {token}: {weight:.4f}\")\n",
        "\n",
        "    # Highlight influential regions in the original sequence\n",
        "    highlighted = original_seq\n",
        "    sorted_kmers = sorted(explanation.as_list(label=0), key=lambda x: abs(x[1]), reverse=True)\n",
        "    for kmer, _ in sorted_kmers:\n",
        "        highlighted = highlighted.replace(kmer, f\"<{kmer}>\")\n",
        "    print(\"Highlighted:\", highlighted)\n",
        "\n",
        "    try:\n",
        "        explanation.show_in_notebook()\n",
        "        fig = explanation.as_pyplot_figure(label=0)\n",
        "        plt.title(f\"LIME Explanation for Sequence {i+1}\")\n",
        "        plt.show()\n",
        "    except Exception as e:\n",
        "        print(f\"Could not generate plot for sequence {i+1}: {e}\")"
      ]
    },
    {
      "cell_type": "code",
      "execution_count": null,
      "metadata": {
        "id": "R29EXsgiUXrZ",
        "outputId": "0f709ed6-e941-4a1b-d44b-9e88066384b5"
      },
      "outputs": [
        {
          "name": "stdout",
          "output_type": "stream",
          "text": [
            "Defaulting to user installation because normal site-packages is not writeable\n",
            "Requirement already satisfied: anchor-exp in /home/molecular16/.local/lib/python3.11/site-packages (0.0.2.0)\n",
            "Requirement already satisfied: numpy in /home/molecular16/anaconda3/lib/python3.11/site-packages (from anchor-exp) (1.24.3)\n",
            "Requirement already satisfied: scipy in /home/molecular16/anaconda3/lib/python3.11/site-packages (from anchor-exp) (1.11.1)\n",
            "Requirement already satisfied: spacy in /home/molecular16/.local/lib/python3.11/site-packages (from anchor-exp) (3.8.7)\n",
            "Requirement already satisfied: lime in /home/molecular16/.local/lib/python3.11/site-packages (from anchor-exp) (0.2.0.1)\n",
            "Requirement already satisfied: scikit-learn>=0.22 in /home/molecular16/anaconda3/lib/python3.11/site-packages (from anchor-exp) (1.3.0)\n",
            "Requirement already satisfied: joblib>=1.1.1 in /home/molecular16/anaconda3/lib/python3.11/site-packages (from scikit-learn>=0.22->anchor-exp) (1.2.0)\n",
            "Requirement already satisfied: threadpoolctl>=2.0.0 in /home/molecular16/anaconda3/lib/python3.11/site-packages (from scikit-learn>=0.22->anchor-exp) (2.2.0)\n",
            "Requirement already satisfied: matplotlib in /home/molecular16/anaconda3/lib/python3.11/site-packages (from lime->anchor-exp) (3.7.2)\n",
            "Requirement already satisfied: tqdm in /home/molecular16/anaconda3/lib/python3.11/site-packages (from lime->anchor-exp) (4.65.0)\n",
            "Requirement already satisfied: scikit-image>=0.12 in /home/molecular16/anaconda3/lib/python3.11/site-packages (from lime->anchor-exp) (0.20.0)\n",
            "Requirement already satisfied: spacy-legacy<3.1.0,>=3.0.11 in /home/molecular16/.local/lib/python3.11/site-packages (from spacy->anchor-exp) (3.0.12)\n",
            "Requirement already satisfied: spacy-loggers<2.0.0,>=1.0.0 in /home/molecular16/.local/lib/python3.11/site-packages (from spacy->anchor-exp) (1.0.5)\n",
            "Requirement already satisfied: murmurhash<1.1.0,>=0.28.0 in /home/molecular16/.local/lib/python3.11/site-packages (from spacy->anchor-exp) (1.0.13)\n",
            "Requirement already satisfied: cymem<2.1.0,>=2.0.2 in /home/molecular16/.local/lib/python3.11/site-packages (from spacy->anchor-exp) (2.0.11)\n",
            "Requirement already satisfied: preshed<3.1.0,>=3.0.2 in /home/molecular16/.local/lib/python3.11/site-packages (from spacy->anchor-exp) (3.0.10)\n",
            "Requirement already satisfied: thinc<8.4.0,>=8.3.4 in /home/molecular16/.local/lib/python3.11/site-packages (from spacy->anchor-exp) (8.3.4)\n",
            "Requirement already satisfied: wasabi<1.2.0,>=0.9.1 in /home/molecular16/.local/lib/python3.11/site-packages (from spacy->anchor-exp) (1.1.3)\n",
            "Requirement already satisfied: srsly<3.0.0,>=2.4.3 in /home/molecular16/.local/lib/python3.11/site-packages (from spacy->anchor-exp) (2.5.1)\n",
            "Requirement already satisfied: catalogue<2.1.0,>=2.0.6 in /home/molecular16/.local/lib/python3.11/site-packages (from spacy->anchor-exp) (2.0.10)\n",
            "Requirement already satisfied: weasel<0.5.0,>=0.1.0 in /home/molecular16/.local/lib/python3.11/site-packages (from spacy->anchor-exp) (0.4.1)\n",
            "Requirement already satisfied: typer<1.0.0,>=0.3.0 in /home/molecular16/.local/lib/python3.11/site-packages (from spacy->anchor-exp) (0.16.0)\n",
            "Requirement already satisfied: requests<3.0.0,>=2.13.0 in /home/molecular16/anaconda3/lib/python3.11/site-packages (from spacy->anchor-exp) (2.31.0)\n",
            "Requirement already satisfied: pydantic!=1.8,!=1.8.1,<3.0.0,>=1.7.4 in /home/molecular16/anaconda3/lib/python3.11/site-packages (from spacy->anchor-exp) (1.10.8)\n",
            "Requirement already satisfied: jinja2 in /home/molecular16/anaconda3/lib/python3.11/site-packages (from spacy->anchor-exp) (3.1.2)\n",
            "Requirement already satisfied: setuptools in /home/molecular16/anaconda3/lib/python3.11/site-packages (from spacy->anchor-exp) (68.0.0)\n",
            "Requirement already satisfied: packaging>=20.0 in /home/molecular16/anaconda3/lib/python3.11/site-packages (from spacy->anchor-exp) (23.1)\n",
            "Requirement already satisfied: langcodes<4.0.0,>=3.2.0 in /home/molecular16/.local/lib/python3.11/site-packages (from spacy->anchor-exp) (3.5.0)\n",
            "Requirement already satisfied: language-data>=1.2 in /home/molecular16/.local/lib/python3.11/site-packages (from langcodes<4.0.0,>=3.2.0->spacy->anchor-exp) (1.3.0)\n",
            "Requirement already satisfied: typing-extensions>=4.2.0 in /home/molecular16/.local/lib/python3.11/site-packages (from pydantic!=1.8,!=1.8.1,<3.0.0,>=1.7.4->spacy->anchor-exp) (4.14.1)\n",
            "Requirement already satisfied: charset-normalizer<4,>=2 in /home/molecular16/anaconda3/lib/python3.11/site-packages (from requests<3.0.0,>=2.13.0->spacy->anchor-exp) (2.0.4)\n",
            "Requirement already satisfied: idna<4,>=2.5 in /home/molecular16/anaconda3/lib/python3.11/site-packages (from requests<3.0.0,>=2.13.0->spacy->anchor-exp) (3.4)\n",
            "Requirement already satisfied: urllib3<3,>=1.21.1 in /home/molecular16/anaconda3/lib/python3.11/site-packages (from requests<3.0.0,>=2.13.0->spacy->anchor-exp) (1.26.16)\n",
            "Requirement already satisfied: certifi>=2017.4.17 in /home/molecular16/anaconda3/lib/python3.11/site-packages (from requests<3.0.0,>=2.13.0->spacy->anchor-exp) (2023.7.22)\n",
            "Requirement already satisfied: networkx>=2.8 in /home/molecular16/anaconda3/lib/python3.11/site-packages (from scikit-image>=0.12->lime->anchor-exp) (3.1)\n",
            "Requirement already satisfied: pillow>=9.0.1 in /home/molecular16/anaconda3/lib/python3.11/site-packages (from scikit-image>=0.12->lime->anchor-exp) (9.4.0)\n",
            "Requirement already satisfied: imageio>=2.4.1 in /home/molecular16/anaconda3/lib/python3.11/site-packages (from scikit-image>=0.12->lime->anchor-exp) (2.31.1)\n",
            "Requirement already satisfied: tifffile>=2019.7.26 in /home/molecular16/anaconda3/lib/python3.11/site-packages (from scikit-image>=0.12->lime->anchor-exp) (2023.4.12)\n",
            "Requirement already satisfied: PyWavelets>=1.1.1 in /home/molecular16/anaconda3/lib/python3.11/site-packages (from scikit-image>=0.12->lime->anchor-exp) (1.4.1)\n",
            "Requirement already satisfied: lazy_loader>=0.1 in /home/molecular16/anaconda3/lib/python3.11/site-packages (from scikit-image>=0.12->lime->anchor-exp) (0.2)\n",
            "Requirement already satisfied: blis<1.3.0,>=1.2.0 in /home/molecular16/.local/lib/python3.11/site-packages (from thinc<8.4.0,>=8.3.4->spacy->anchor-exp) (1.2.1)\n",
            "Requirement already satisfied: confection<1.0.0,>=0.0.1 in /home/molecular16/.local/lib/python3.11/site-packages (from thinc<8.4.0,>=8.3.4->spacy->anchor-exp) (0.1.5)\n",
            "Requirement already satisfied: click>=8.0.0 in /home/molecular16/anaconda3/lib/python3.11/site-packages (from typer<1.0.0,>=0.3.0->spacy->anchor-exp) (8.0.4)\n",
            "Requirement already satisfied: shellingham>=1.3.0 in /home/molecular16/.local/lib/python3.11/site-packages (from typer<1.0.0,>=0.3.0->spacy->anchor-exp) (1.5.4)\n",
            "Requirement already satisfied: rich>=10.11.0 in /home/molecular16/.local/lib/python3.11/site-packages (from typer<1.0.0,>=0.3.0->spacy->anchor-exp) (14.0.0)\n",
            "Requirement already satisfied: cloudpathlib<1.0.0,>=0.7.0 in /home/molecular16/.local/lib/python3.11/site-packages (from weasel<0.5.0,>=0.1.0->spacy->anchor-exp) (0.21.1)\n",
            "Requirement already satisfied: smart-open<8.0.0,>=5.2.1 in /home/molecular16/anaconda3/lib/python3.11/site-packages (from weasel<0.5.0,>=0.1.0->spacy->anchor-exp) (5.2.1)\n",
            "Requirement already satisfied: MarkupSafe>=2.0 in /home/molecular16/anaconda3/lib/python3.11/site-packages (from jinja2->spacy->anchor-exp) (2.1.1)\n",
            "Requirement already satisfied: contourpy>=1.0.1 in /home/molecular16/anaconda3/lib/python3.11/site-packages (from matplotlib->lime->anchor-exp) (1.0.5)\n",
            "Requirement already satisfied: cycler>=0.10 in /home/molecular16/anaconda3/lib/python3.11/site-packages (from matplotlib->lime->anchor-exp) (0.11.0)\n",
            "Requirement already satisfied: fonttools>=4.22.0 in /home/molecular16/anaconda3/lib/python3.11/site-packages (from matplotlib->lime->anchor-exp) (4.25.0)\n",
            "Requirement already satisfied: kiwisolver>=1.0.1 in /home/molecular16/anaconda3/lib/python3.11/site-packages (from matplotlib->lime->anchor-exp) (1.4.4)\n",
            "Requirement already satisfied: pyparsing<3.1,>=2.3.1 in /home/molecular16/anaconda3/lib/python3.11/site-packages (from matplotlib->lime->anchor-exp) (3.0.9)\n",
            "Requirement already satisfied: python-dateutil>=2.7 in /home/molecular16/anaconda3/lib/python3.11/site-packages (from matplotlib->lime->anchor-exp) (2.8.2)\n",
            "Requirement already satisfied: marisa-trie>=1.1.0 in /home/molecular16/.local/lib/python3.11/site-packages (from language-data>=1.2->langcodes<4.0.0,>=3.2.0->spacy->anchor-exp) (1.2.1)\n"
          ]
        },
        {
          "name": "stdout",
          "output_type": "stream",
          "text": [
            "Requirement already satisfied: six>=1.5 in /home/molecular16/anaconda3/lib/python3.11/site-packages (from python-dateutil>=2.7->matplotlib->lime->anchor-exp) (1.16.0)\n",
            "Requirement already satisfied: markdown-it-py>=2.2.0 in /home/molecular16/anaconda3/lib/python3.11/site-packages (from rich>=10.11.0->typer<1.0.0,>=0.3.0->spacy->anchor-exp) (2.2.0)\n",
            "Requirement already satisfied: pygments<3.0.0,>=2.13.0 in /home/molecular16/anaconda3/lib/python3.11/site-packages (from rich>=10.11.0->typer<1.0.0,>=0.3.0->spacy->anchor-exp) (2.15.1)\n",
            "Requirement already satisfied: mdurl~=0.1 in /home/molecular16/anaconda3/lib/python3.11/site-packages (from markdown-it-py>=2.2.0->rich>=10.11.0->typer<1.0.0,>=0.3.0->spacy->anchor-exp) (0.1.0)\n"
          ]
        }
      ],
      "source": [
        "!pip install anchor-exp"
      ]
    },
    {
      "cell_type": "code",
      "execution_count": 2,
      "metadata": {
        "id": "wRjqZR0PUXqh",
        "outputId": "ec942e54-b6f2-4716-b471-1a43e1c6fd50",
        "colab": {
          "base_uri": "https://localhost:8080/",
          "height": 383
        }
      },
      "outputs": [
        {
          "output_type": "error",
          "ename": "ModuleNotFoundError",
          "evalue": "No module named 'anchor'",
          "traceback": [
            "\u001b[0;31m---------------------------------------------------------------------------\u001b[0m",
            "\u001b[0;31mModuleNotFoundError\u001b[0m                       Traceback (most recent call last)",
            "\u001b[0;32m/tmp/ipython-input-574354430.py\u001b[0m in \u001b[0;36m<cell line: 0>\u001b[0;34m()\u001b[0m\n\u001b[0;32m----> 1\u001b[0;31m \u001b[0;32mfrom\u001b[0m \u001b[0manchor\u001b[0m \u001b[0;32mimport\u001b[0m \u001b[0manchor_text\u001b[0m\u001b[0;34m\u001b[0m\u001b[0;34m\u001b[0m\u001b[0m\n\u001b[0m\u001b[1;32m      2\u001b[0m \u001b[0;32mimport\u001b[0m \u001b[0mnumpy\u001b[0m \u001b[0;32mas\u001b[0m \u001b[0mnp\u001b[0m\u001b[0;34m\u001b[0m\u001b[0;34m\u001b[0m\u001b[0m\n\u001b[1;32m      3\u001b[0m \u001b[0;32mimport\u001b[0m \u001b[0mtorch\u001b[0m\u001b[0;34m\u001b[0m\u001b[0;34m\u001b[0m\u001b[0m\n\u001b[1;32m      4\u001b[0m \u001b[0;32mimport\u001b[0m \u001b[0mpandas\u001b[0m \u001b[0;32mas\u001b[0m \u001b[0mpd\u001b[0m\u001b[0;34m\u001b[0m\u001b[0;34m\u001b[0m\u001b[0m\n\u001b[1;32m      5\u001b[0m \u001b[0;34m\u001b[0m\u001b[0m\n",
            "\u001b[0;31mModuleNotFoundError\u001b[0m: No module named 'anchor'",
            "",
            "\u001b[0;31m---------------------------------------------------------------------------\u001b[0;32m\nNOTE: If your import is failing due to a missing package, you can\nmanually install dependencies using either !pip or !apt.\n\nTo view examples of installing some common dependencies, click the\n\"Open Examples\" button below.\n\u001b[0;31m---------------------------------------------------------------------------\u001b[0m\n"
          ],
          "errorDetails": {
            "actions": [
              {
                "action": "open_url",
                "actionText": "Open Examples",
                "url": "/notebooks/snippets/importing_libraries.ipynb"
              }
            ]
          }
        }
      ],
      "source": [
        "from anchor import anchor_text\n",
        "import numpy as np\n",
        "import torch\n",
        "import pandas as pd\n",
        "\n",
        "# === Load dataset ===\n",
        "df = pd.read_csv(\"Allergen_test_1.csv\")\n",
        "df['sequence'] = df['sequence'].astype(str)\n",
        "df['label'] = df['Allergen']\n",
        "\n",
        "# Drop sequences with length smaller than 6 and create a new dataframe\n",
        "df = df[df['sequence'].str.len() >= 8].copy()\n",
        "\n",
        "# === Convert sequence to k-mers ===\n",
        "def seq_to_kmers(seq, k=8):\n",
        "    return ' '.join([seq[i:i + k] for i in range(len(seq) - k + 1)])\n",
        "\n",
        "# === Convert k-mers back to sequence ===\n",
        "def kmers_to_seq(kmer_str, k=8):\n",
        "    kmers = kmer_str.split()\n",
        "    if not kmers: return ''\n",
        "    return kmers[0] + ''.join([k[-1] for k in kmers[1:]])\n",
        "\n",
        "k = 6\n",
        "df['kmers'] = df['sequence'].apply(lambda seq: seq_to_kmers(seq, k))\n",
        "kmer_texts = df['kmers'].tolist()\n",
        "raw_sequences = df['sequence'].tolist()\n",
        "labels = df['label'].tolist()\n",
        "\n",
        "# === Prediction using ESM + one-hot ===\n",
        "def predict_fn_esm(sequences):\n",
        "    model.eval()\n",
        "    with torch.no_grad():\n",
        "        valid_sequences = [s for s in sequences if isinstance(s, str) and len(s) > 0]\n",
        "        if not valid_sequences:\n",
        "            return np.array([[0.5, 0.5]] * len(sequences))\n",
        "\n",
        "        esm_feats = extract_esm_embeddings(valid_sequences)\n",
        "        onehot = sequence_to_onehot(valid_sequences).float()\n",
        "        outputs = model(esm_feats, onehot)\n",
        "        probs = torch.softmax(outputs, dim=1).cpu().numpy()\n",
        "\n",
        "        full_probs = np.zeros((len(sequences), 2))\n",
        "        valid_idx = 0\n",
        "        for i, seq in enumerate(sequences):\n",
        "            if isinstance(seq, str) and len(seq) > 0:\n",
        "                full_probs[i] = probs[valid_idx]\n",
        "                valid_idx += 1\n",
        "            else:\n",
        "                full_probs[i] = np.array([0.5, 0.5])\n",
        "        return full_probs\n",
        "\n",
        "# === Wrapper for AnchorText (returns class predictions) ===\n",
        "def predict_probs_kmers_anchor(kmer_seqs):\n",
        "    recovered_seqs = [kmers_to_seq(text, k=k) for text in kmer_seqs]\n",
        "    return predict_fn_esm(recovered_seqs)\n",
        "\n",
        "def predict_class_kmers_anchor(kmer_seqs):\n",
        "    probs = predict_probs_kmers_anchor(kmer_seqs)\n",
        "    return np.argmax(probs, axis=1)\n",
        "\n",
        "# === Dummy tokenizer for AnchorText ===\n",
        "class DummyToken:\n",
        "    def __init__(self, text, idx):\n",
        "        self.text = text\n",
        "        self.idx = idx\n",
        "\n",
        "class DummyTokenizer:\n",
        "    def __call__(self, text):\n",
        "        tokens = text.split()\n",
        "        return [DummyToken(token, i) for i, token in enumerate(tokens)]\n",
        "\n",
        "# === Find top high-confidence toxic predictions ===\n",
        "probs = predict_fn_esm(raw_sequences)\n",
        "high_conf_ids = np.where((np.array(labels) == 1) & (probs[:, 1] > 0.8))[0]\n",
        "selected_ids = high_conf_ids[31:40]\n",
        "\n",
        "# === Create AnchorText explainer ===\n",
        "class_names = ['non-Allergen', 'Allergen']\n",
        "explainer = anchor_text.AnchorText(nlp=DummyTokenizer(), class_names=class_names)\n",
        "\n",
        "# === Explain selected instances ===\n",
        "for i, idx in enumerate(selected_ids):\n",
        "    print(f\"\\n🧬 Explaining Sequence {i+1} (Index {idx})\")\n",
        "    print(\"Original Sequence:\", raw_sequences[idx])\n",
        "\n",
        "    explanation = explainer.explain_instance(\n",
        "        kmer_texts[idx],\n",
        "        classifier_fn=predict_class_kmers_anchor,\n",
        "        threshold=0.95\n",
        "    )\n",
        "\n",
        "    print(\"\\n🔍 Anchor Explanation:\")\n",
        "    print('Anchor (if these k-mers present → Allergen):', ' AND '.join(explanation.names()))\n",
        "    print('Precision:', explanation.precision())\n",
        "    print('Coverage:', explanation.coverage())\n",
        "    explanation.show_in_notebook()"
      ]
    },
    {
      "cell_type": "code",
      "execution_count": null,
      "metadata": {
        "id": "-pRvIpjQUXY8"
      },
      "outputs": [],
      "source": [
        "from anchor import anchor_text\n",
        "import numpy as np\n",
        "import torch\n",
        "import pandas as pd\n",
        "\n",
        "# === Load dataset ===\n",
        "df = pd.read_csv(\"Allergen_test_1.csv\")\n",
        "df['sequence'] = df['sequence'].astype(str)\n",
        "df['label'] = df['Allergen']\n",
        "\n",
        "# Drop sequences with length smaller than 6 and create a new dataframe\n",
        "df = df[df['sequence'].str.len() >= 8].copy()\n",
        "\n",
        "# === Convert sequence to k-mers ===\n",
        "def seq_to_kmers(seq, k=8):\n",
        "    return ' '.join([seq[i:i + k] for i in range(len(seq) - k + 1)])\n",
        "\n",
        "# === Convert k-mers back to sequence ===\n",
        "def kmers_to_seq(kmer_str, k=8):\n",
        "    kmers = kmer_str.split()\n",
        "    if not kmers: return ''\n",
        "    return kmers[0] + ''.join([k[-1] for k in kmers[1:]])\n",
        "\n",
        "k = 4\n",
        "df['kmers'] = df['sequence'].apply(lambda seq: seq_to_kmers(seq, k))\n",
        "kmer_texts = df['kmers'].tolist()\n",
        "raw_sequences = df['sequence'].tolist()\n",
        "labels = df['label'].tolist()\n",
        "\n",
        "# === Prediction using ESM + one-hot ===\n",
        "def predict_fn_esm(sequences):\n",
        "    model.eval()\n",
        "    with torch.no_grad():\n",
        "        valid_sequences = [s for s in sequences if isinstance(s, str) and len(s) > 0]\n",
        "        if not valid_sequences:\n",
        "            return np.array([[0.5, 0.5]] * len(sequences))\n",
        "\n",
        "        esm_feats = extract_esm_embeddings(valid_sequences)\n",
        "        onehot = sequence_to_onehot(valid_sequences).float()\n",
        "        outputs = model(esm_feats, onehot)\n",
        "        probs = torch.softmax(outputs, dim=1).cpu().numpy()\n",
        "\n",
        "        full_probs = np.zeros((len(sequences), 2))\n",
        "        valid_idx = 0\n",
        "        for i, seq in enumerate(sequences):\n",
        "            if isinstance(seq, str) and len(seq) > 0:\n",
        "                full_probs[i] = probs[valid_idx]\n",
        "                valid_idx += 1\n",
        "            else:\n",
        "                full_probs[i] = np.array([0.5, 0.5])\n",
        "        return full_probs\n",
        "\n",
        "# === Wrapper for AnchorText (returns class predictions) ===\n",
        "def predict_probs_kmers_anchor(kmer_seqs):\n",
        "    recovered_seqs = [kmers_to_seq(text, k=k) for text in kmer_seqs]\n",
        "    return predict_fn_esm(recovered_seqs)\n",
        "\n",
        "def predict_class_kmers_anchor(kmer_seqs):\n",
        "    probs = predict_probs_kmers_anchor(kmer_seqs)\n",
        "    return np.argmax(probs, axis=1)\n",
        "\n",
        "# === Dummy tokenizer for AnchorText ===\n",
        "class DummyToken:\n",
        "    def __init__(self, text, idx):\n",
        "        self.text = text\n",
        "        self.idx = idx\n",
        "\n",
        "class DummyTokenizer:\n",
        "    def __call__(self, text):\n",
        "        tokens = text.split()\n",
        "        return [DummyToken(token, i) for i, token in enumerate(tokens)]\n",
        "\n",
        "# === Find top high-confidence toxic predictions ===\n",
        "probs = predict_fn_esm(raw_sequences)\n",
        "high_conf_ids = np.where((np.array(labels) == 0) & (probs[:, 1] > 0.8))[0]\n",
        "selected_ids = high_conf_ids[:40]\n",
        "\n",
        "# === Create AnchorText explainer ===\n",
        "class_names = ['non-Allergen', 'Allergen']\n",
        "explainer = anchor_text.AnchorText(nlp=DummyTokenizer(), class_names=class_names)\n",
        "\n",
        "# === Explain selected instances ===\n",
        "for i, idx in enumerate(selected_ids):\n",
        "    print(f\"\\n🧬 Explaining Sequence {i+1} (Index {idx})\")\n",
        "    print(\"Original Sequence:\", raw_sequences[idx])\n",
        "\n",
        "    explanation = explainer.explain_instance(\n",
        "        kmer_texts[idx],\n",
        "        classifier_fn=predict_class_kmers_anchor,\n",
        "        threshold=0.95\n",
        "    )\n",
        "\n",
        "    print(\"\\n🔍 Anchor Explanation:\")\n",
        "    print('Anchor (if these k-mers present → non-Allergen):', ' AND '.join(explanation.names()))\n",
        "    print('Precision:', explanation.precision())\n",
        "    print('Coverage:', explanation.coverage())\n",
        "    explanation.show_in_notebook()"
      ]
    },
    {
      "cell_type": "code",
      "execution_count": null,
      "metadata": {
        "id": "-wjSDTJ-eGmk",
        "outputId": "2ccdf64f-0d1e-407b-e9bc-67ccce9f30ac"
      },
      "outputs": [
        {
          "name": "stdout",
          "output_type": "stream",
          "text": [
            "Defaulting to user installation because normal site-packages is not writeable\n",
            "Requirement already satisfied: shap in /home/molecular16/.local/lib/python3.11/site-packages (0.48.0)\n",
            "Requirement already satisfied: numpy in /home/molecular16/anaconda3/lib/python3.11/site-packages (from shap) (1.24.3)\n",
            "Requirement already satisfied: scipy in /home/molecular16/anaconda3/lib/python3.11/site-packages (from shap) (1.11.1)\n",
            "Requirement already satisfied: scikit-learn in /home/molecular16/anaconda3/lib/python3.11/site-packages (from shap) (1.3.0)\n",
            "Requirement already satisfied: pandas in /home/molecular16/anaconda3/lib/python3.11/site-packages (from shap) (2.0.3)\n",
            "Requirement already satisfied: tqdm>=4.27.0 in /home/molecular16/anaconda3/lib/python3.11/site-packages (from shap) (4.65.0)\n",
            "Requirement already satisfied: packaging>20.9 in /home/molecular16/anaconda3/lib/python3.11/site-packages (from shap) (23.1)\n",
            "Requirement already satisfied: slicer==0.0.8 in /home/molecular16/.local/lib/python3.11/site-packages (from shap) (0.0.8)\n",
            "Requirement already satisfied: numba>=0.54 in /home/molecular16/anaconda3/lib/python3.11/site-packages (from shap) (0.57.1)\n",
            "Requirement already satisfied: cloudpickle in /home/molecular16/anaconda3/lib/python3.11/site-packages (from shap) (2.2.1)\n",
            "Requirement already satisfied: typing-extensions in /home/molecular16/.local/lib/python3.11/site-packages (from shap) (4.14.1)\n",
            "Requirement already satisfied: llvmlite<0.41,>=0.40.0dev0 in /home/molecular16/anaconda3/lib/python3.11/site-packages (from numba>=0.54->shap) (0.40.0)\n",
            "Requirement already satisfied: python-dateutil>=2.8.2 in /home/molecular16/anaconda3/lib/python3.11/site-packages (from pandas->shap) (2.8.2)\n",
            "Requirement already satisfied: pytz>=2020.1 in /home/molecular16/anaconda3/lib/python3.11/site-packages (from pandas->shap) (2023.3.post1)\n",
            "Requirement already satisfied: tzdata>=2022.1 in /home/molecular16/anaconda3/lib/python3.11/site-packages (from pandas->shap) (2023.3)\n",
            "Requirement already satisfied: joblib>=1.1.1 in /home/molecular16/anaconda3/lib/python3.11/site-packages (from scikit-learn->shap) (1.2.0)\n",
            "Requirement already satisfied: threadpoolctl>=2.0.0 in /home/molecular16/anaconda3/lib/python3.11/site-packages (from scikit-learn->shap) (2.2.0)\n",
            "Requirement already satisfied: six>=1.5 in /home/molecular16/anaconda3/lib/python3.11/site-packages (from python-dateutil>=2.8.2->pandas->shap) (1.16.0)\n"
          ]
        }
      ],
      "source": [
        "!pip install shap"
      ]
    },
    {
      "cell_type": "code",
      "execution_count": 3,
      "metadata": {
        "id": "kW3i-s9OeGml",
        "outputId": "df6e8015-f509-4f44-ceec-e5e2ca32defa",
        "colab": {
          "base_uri": "https://localhost:8080/",
          "height": 356
        }
      },
      "outputs": [
        {
          "output_type": "error",
          "ename": "FileNotFoundError",
          "evalue": "[Errno 2] No such file or directory: 'Allergen_test_1.csv'",
          "traceback": [
            "\u001b[0;31m---------------------------------------------------------------------------\u001b[0m",
            "\u001b[0;31mFileNotFoundError\u001b[0m                         Traceback (most recent call last)",
            "\u001b[0;32m/tmp/ipython-input-2596664755.py\u001b[0m in \u001b[0;36m<cell line: 0>\u001b[0;34m()\u001b[0m\n\u001b[1;32m      7\u001b[0m \u001b[0;34m\u001b[0m\u001b[0m\n\u001b[1;32m      8\u001b[0m \u001b[0;31m# === Load dataset ===\u001b[0m\u001b[0;34m\u001b[0m\u001b[0;34m\u001b[0m\u001b[0m\n\u001b[0;32m----> 9\u001b[0;31m \u001b[0mdf\u001b[0m \u001b[0;34m=\u001b[0m \u001b[0mpd\u001b[0m\u001b[0;34m.\u001b[0m\u001b[0mread_csv\u001b[0m\u001b[0;34m(\u001b[0m\u001b[0;34m\"Allergen_test_1.csv\"\u001b[0m\u001b[0;34m)\u001b[0m\u001b[0;34m\u001b[0m\u001b[0;34m\u001b[0m\u001b[0m\n\u001b[0m\u001b[1;32m     10\u001b[0m \u001b[0mdf\u001b[0m\u001b[0;34m[\u001b[0m\u001b[0;34m'sequence'\u001b[0m\u001b[0;34m]\u001b[0m \u001b[0;34m=\u001b[0m \u001b[0mdf\u001b[0m\u001b[0;34m[\u001b[0m\u001b[0;34m'sequence'\u001b[0m\u001b[0;34m]\u001b[0m\u001b[0;34m.\u001b[0m\u001b[0mastype\u001b[0m\u001b[0;34m(\u001b[0m\u001b[0mstr\u001b[0m\u001b[0;34m)\u001b[0m\u001b[0;34m\u001b[0m\u001b[0;34m\u001b[0m\u001b[0m\n\u001b[1;32m     11\u001b[0m \u001b[0mdf\u001b[0m\u001b[0;34m[\u001b[0m\u001b[0;34m'label'\u001b[0m\u001b[0;34m]\u001b[0m \u001b[0;34m=\u001b[0m \u001b[0mdf\u001b[0m\u001b[0;34m[\u001b[0m\u001b[0;34m'Allergen'\u001b[0m\u001b[0;34m]\u001b[0m\u001b[0;34m\u001b[0m\u001b[0;34m\u001b[0m\u001b[0m\n",
            "\u001b[0;32m/usr/local/lib/python3.12/dist-packages/pandas/io/parsers/readers.py\u001b[0m in \u001b[0;36mread_csv\u001b[0;34m(filepath_or_buffer, sep, delimiter, header, names, index_col, usecols, dtype, engine, converters, true_values, false_values, skipinitialspace, skiprows, skipfooter, nrows, na_values, keep_default_na, na_filter, verbose, skip_blank_lines, parse_dates, infer_datetime_format, keep_date_col, date_parser, date_format, dayfirst, cache_dates, iterator, chunksize, compression, thousands, decimal, lineterminator, quotechar, quoting, doublequote, escapechar, comment, encoding, encoding_errors, dialect, on_bad_lines, delim_whitespace, low_memory, memory_map, float_precision, storage_options, dtype_backend)\u001b[0m\n\u001b[1;32m   1024\u001b[0m     \u001b[0mkwds\u001b[0m\u001b[0;34m.\u001b[0m\u001b[0mupdate\u001b[0m\u001b[0;34m(\u001b[0m\u001b[0mkwds_defaults\u001b[0m\u001b[0;34m)\u001b[0m\u001b[0;34m\u001b[0m\u001b[0;34m\u001b[0m\u001b[0m\n\u001b[1;32m   1025\u001b[0m \u001b[0;34m\u001b[0m\u001b[0m\n\u001b[0;32m-> 1026\u001b[0;31m     \u001b[0;32mreturn\u001b[0m \u001b[0m_read\u001b[0m\u001b[0;34m(\u001b[0m\u001b[0mfilepath_or_buffer\u001b[0m\u001b[0;34m,\u001b[0m \u001b[0mkwds\u001b[0m\u001b[0;34m)\u001b[0m\u001b[0;34m\u001b[0m\u001b[0;34m\u001b[0m\u001b[0m\n\u001b[0m\u001b[1;32m   1027\u001b[0m \u001b[0;34m\u001b[0m\u001b[0m\n\u001b[1;32m   1028\u001b[0m \u001b[0;34m\u001b[0m\u001b[0m\n",
            "\u001b[0;32m/usr/local/lib/python3.12/dist-packages/pandas/io/parsers/readers.py\u001b[0m in \u001b[0;36m_read\u001b[0;34m(filepath_or_buffer, kwds)\u001b[0m\n\u001b[1;32m    618\u001b[0m \u001b[0;34m\u001b[0m\u001b[0m\n\u001b[1;32m    619\u001b[0m     \u001b[0;31m# Create the parser.\u001b[0m\u001b[0;34m\u001b[0m\u001b[0;34m\u001b[0m\u001b[0m\n\u001b[0;32m--> 620\u001b[0;31m     \u001b[0mparser\u001b[0m \u001b[0;34m=\u001b[0m \u001b[0mTextFileReader\u001b[0m\u001b[0;34m(\u001b[0m\u001b[0mfilepath_or_buffer\u001b[0m\u001b[0;34m,\u001b[0m \u001b[0;34m**\u001b[0m\u001b[0mkwds\u001b[0m\u001b[0;34m)\u001b[0m\u001b[0;34m\u001b[0m\u001b[0;34m\u001b[0m\u001b[0m\n\u001b[0m\u001b[1;32m    621\u001b[0m \u001b[0;34m\u001b[0m\u001b[0m\n\u001b[1;32m    622\u001b[0m     \u001b[0;32mif\u001b[0m \u001b[0mchunksize\u001b[0m \u001b[0;32mor\u001b[0m \u001b[0miterator\u001b[0m\u001b[0;34m:\u001b[0m\u001b[0;34m\u001b[0m\u001b[0;34m\u001b[0m\u001b[0m\n",
            "\u001b[0;32m/usr/local/lib/python3.12/dist-packages/pandas/io/parsers/readers.py\u001b[0m in \u001b[0;36m__init__\u001b[0;34m(self, f, engine, **kwds)\u001b[0m\n\u001b[1;32m   1618\u001b[0m \u001b[0;34m\u001b[0m\u001b[0m\n\u001b[1;32m   1619\u001b[0m         \u001b[0mself\u001b[0m\u001b[0;34m.\u001b[0m\u001b[0mhandles\u001b[0m\u001b[0;34m:\u001b[0m \u001b[0mIOHandles\u001b[0m \u001b[0;34m|\u001b[0m \u001b[0;32mNone\u001b[0m \u001b[0;34m=\u001b[0m \u001b[0;32mNone\u001b[0m\u001b[0;34m\u001b[0m\u001b[0;34m\u001b[0m\u001b[0m\n\u001b[0;32m-> 1620\u001b[0;31m         \u001b[0mself\u001b[0m\u001b[0;34m.\u001b[0m\u001b[0m_engine\u001b[0m \u001b[0;34m=\u001b[0m \u001b[0mself\u001b[0m\u001b[0;34m.\u001b[0m\u001b[0m_make_engine\u001b[0m\u001b[0;34m(\u001b[0m\u001b[0mf\u001b[0m\u001b[0;34m,\u001b[0m \u001b[0mself\u001b[0m\u001b[0;34m.\u001b[0m\u001b[0mengine\u001b[0m\u001b[0;34m)\u001b[0m\u001b[0;34m\u001b[0m\u001b[0;34m\u001b[0m\u001b[0m\n\u001b[0m\u001b[1;32m   1621\u001b[0m \u001b[0;34m\u001b[0m\u001b[0m\n\u001b[1;32m   1622\u001b[0m     \u001b[0;32mdef\u001b[0m \u001b[0mclose\u001b[0m\u001b[0;34m(\u001b[0m\u001b[0mself\u001b[0m\u001b[0;34m)\u001b[0m \u001b[0;34m->\u001b[0m \u001b[0;32mNone\u001b[0m\u001b[0;34m:\u001b[0m\u001b[0;34m\u001b[0m\u001b[0;34m\u001b[0m\u001b[0m\n",
            "\u001b[0;32m/usr/local/lib/python3.12/dist-packages/pandas/io/parsers/readers.py\u001b[0m in \u001b[0;36m_make_engine\u001b[0;34m(self, f, engine)\u001b[0m\n\u001b[1;32m   1878\u001b[0m                 \u001b[0;32mif\u001b[0m \u001b[0;34m\"b\"\u001b[0m \u001b[0;32mnot\u001b[0m \u001b[0;32min\u001b[0m \u001b[0mmode\u001b[0m\u001b[0;34m:\u001b[0m\u001b[0;34m\u001b[0m\u001b[0;34m\u001b[0m\u001b[0m\n\u001b[1;32m   1879\u001b[0m                     \u001b[0mmode\u001b[0m \u001b[0;34m+=\u001b[0m \u001b[0;34m\"b\"\u001b[0m\u001b[0;34m\u001b[0m\u001b[0;34m\u001b[0m\u001b[0m\n\u001b[0;32m-> 1880\u001b[0;31m             self.handles = get_handle(\n\u001b[0m\u001b[1;32m   1881\u001b[0m                 \u001b[0mf\u001b[0m\u001b[0;34m,\u001b[0m\u001b[0;34m\u001b[0m\u001b[0;34m\u001b[0m\u001b[0m\n\u001b[1;32m   1882\u001b[0m                 \u001b[0mmode\u001b[0m\u001b[0;34m,\u001b[0m\u001b[0;34m\u001b[0m\u001b[0;34m\u001b[0m\u001b[0m\n",
            "\u001b[0;32m/usr/local/lib/python3.12/dist-packages/pandas/io/common.py\u001b[0m in \u001b[0;36mget_handle\u001b[0;34m(path_or_buf, mode, encoding, compression, memory_map, is_text, errors, storage_options)\u001b[0m\n\u001b[1;32m    871\u001b[0m         \u001b[0;32mif\u001b[0m \u001b[0mioargs\u001b[0m\u001b[0;34m.\u001b[0m\u001b[0mencoding\u001b[0m \u001b[0;32mand\u001b[0m \u001b[0;34m\"b\"\u001b[0m \u001b[0;32mnot\u001b[0m \u001b[0;32min\u001b[0m \u001b[0mioargs\u001b[0m\u001b[0;34m.\u001b[0m\u001b[0mmode\u001b[0m\u001b[0;34m:\u001b[0m\u001b[0;34m\u001b[0m\u001b[0;34m\u001b[0m\u001b[0m\n\u001b[1;32m    872\u001b[0m             \u001b[0;31m# Encoding\u001b[0m\u001b[0;34m\u001b[0m\u001b[0;34m\u001b[0m\u001b[0m\n\u001b[0;32m--> 873\u001b[0;31m             handle = open(\n\u001b[0m\u001b[1;32m    874\u001b[0m                 \u001b[0mhandle\u001b[0m\u001b[0;34m,\u001b[0m\u001b[0;34m\u001b[0m\u001b[0;34m\u001b[0m\u001b[0m\n\u001b[1;32m    875\u001b[0m                 \u001b[0mioargs\u001b[0m\u001b[0;34m.\u001b[0m\u001b[0mmode\u001b[0m\u001b[0;34m,\u001b[0m\u001b[0;34m\u001b[0m\u001b[0;34m\u001b[0m\u001b[0m\n",
            "\u001b[0;31mFileNotFoundError\u001b[0m: [Errno 2] No such file or directory: 'Allergen_test_1.csv'"
          ]
        }
      ],
      "source": [
        "import shap\n",
        "import torch\n",
        "import torch.nn.functional as F\n",
        "import numpy as np\n",
        "import matplotlib.pyplot as plt\n",
        "import pandas as pd\n",
        "\n",
        "# === Load dataset ===\n",
        "df = pd.read_csv(\"Allergen_test_1.csv\")\n",
        "df['sequence'] = df['sequence'].astype(str)\n",
        "df['label'] = df['Allergen']\n",
        "\n",
        "# Drop sequences with length smaller than 6 and create a new dataframe\n",
        "df = df[df['sequence'].str.len() >= 8].copy()\n",
        "\n",
        "# === Tokenization into k-mers ===\n",
        "def seq_to_kmers(seq, k=8):\n",
        "    return ' '.join([seq[i:i + k] for i in range(len(seq) - k + 1)])\n",
        "\n",
        "k = 6\n",
        "df['kmers'] = df['sequence'].apply(lambda seq: seq_to_kmers(seq, k))\n",
        "\n",
        "# === Helper to reconstruct full sequence from k-mers ===\n",
        "def kmers_to_seq(kmer_str, k=8):\n",
        "    kmers = kmer_str.split()\n",
        "    if not kmers:\n",
        "        return ''\n",
        "    return kmers[0] + ''.join([k[-1] for k in kmers[1:]])\n",
        "\n",
        "# === Prediction wrapper for SHAP ===\n",
        "class_names = ['non-Allergen', 'Allergen']\n",
        "\n",
        "def shap_predict_sequences(sequences):\n",
        "    model.eval()\n",
        "    with torch.no_grad():\n",
        "        esm_feats = extract_esm_embeddings(sequences)  # tensor [B, D]\n",
        "        onehot_seqs = sequence_to_onehot(sequences).float()  # tensor [B, L, 4]\n",
        "        outputs = model(esm_feats, onehot_seqs)\n",
        "        probs = F.softmax(outputs, dim=1).cpu().numpy()\n",
        "    return probs\n",
        "\n",
        "# === Select top-N high-confidence toxic sequences ===\n",
        "raw_sequences = df['sequence'].tolist()\n",
        "labels = df['label'].tolist()\n",
        "\n",
        "probs = shap_predict_sequences(raw_sequences)\n",
        "high_conf_ids = np.where((np.array(labels) == 1) & (probs[:, 1] > 0.8))[0]\n",
        "selected_ids = high_conf_ids[:40]\n",
        "\n",
        "# === Build SHAP DeepExplainer ===\n",
        "background_sequences = raw_sequences[:50]  # background sample\n",
        "background_esm = extract_esm_embeddings(background_sequences)\n",
        "background_onehot = sequence_to_onehot(background_sequences).float()\n",
        "\n",
        "# Wrap model forward pass for SHAP\n",
        "class WrapperModel(torch.nn.Module):\n",
        "    def __init__(self, model):\n",
        "        super().__init__()\n",
        "        self.model = model\n",
        "    def forward(self, esm_feats, onehot_seqs):\n",
        "        return self.model(esm_feats, onehot_seqs)\n",
        "\n",
        "wrapped_model = WrapperModel(model)\n",
        "explainer = shap.DeepExplainer(wrapped_model, [background_esm, background_onehot])\n",
        "\n",
        "# === Run SHAP explanations with k-mer mapping and text visualization ===\n",
        "for i, idx in enumerate(selected_ids):\n",
        "    original_seq = raw_sequences[idx]\n",
        "    kmer_tokens = seq_to_kmers(original_seq, k).split()\n",
        "\n",
        "    esm_feats = extract_esm_embeddings([original_seq])\n",
        "    onehot_seq = sequence_to_onehot([original_seq]).float()\n",
        "\n",
        "    shap_values = explainer.shap_values([esm_feats, onehot_seq], check_additivity=False)\n",
        "\n",
        "    # Focus on one-hot contribution (shap_values[1])\n",
        "    onehot_shap = shap_values[1][0]  # [L, 4]\n",
        "    token_scores = onehot_shap.max(axis=1)  # contribution per residue\n",
        "\n",
        "    # Map scores back to k-mers\n",
        "    kmer_scores = []\n",
        "    for j in range(len(kmer_tokens)):\n",
        "        start = j\n",
        "        end = j + k\n",
        "        kmer_score = np.mean(token_scores[start:end])\n",
        "        kmer_scores.append(kmer_score)\n",
        "\n",
        "    # Sort influential k-mers\n",
        "    top_indices = np.argsort(-np.abs(kmer_scores))[:10]\n",
        "    print(f\"\\n🧬 Sequence {i+1}: {original_seq}\")\n",
        "    print(\"Top influential k-mers (toward Allergen):\")\n",
        "    for j in top_indices:\n",
        "        print(f\"  {kmer_tokens[j]}: {kmer_scores[j]:.4f}\")\n",
        "\n",
        "    # Highlight in sequence\n",
        "    highlighted = original_seq\n",
        "    influential_kmers = [kmer_tokens[j] for j in top_indices]\n",
        "    for kmer_tok in influential_kmers:\n",
        "        highlighted = highlighted.replace(kmer_tok, f\"<{kmer_tok}>\")\n",
        "    print(\"Highlighted:\", highlighted)\n",
        "\n",
        "    # === Create SHAP Explanation object for text visualization ===\n",
        "    shap_exp = shap.Explanation(\n",
        "        values=np.array(kmer_scores),\n",
        "        data=np.array(kmer_tokens),\n",
        "        feature_names=kmer_tokens,\n",
        "        base_values=explainer.expected_value[1] if hasattr(explainer, 'expected_value') else 0\n",
        "    )\n",
        "\n",
        "    try:\n",
        "        shap.plots.text(shap_exp)\n",
        "    except Exception as e:\n",
        "        print(f\"Could not generate SHAP text plot for sequence {i+1}: {e}\")\n"
      ]
    },
    {
      "cell_type": "code",
      "execution_count": null,
      "metadata": {
        "id": "eoormgfbeGml"
      },
      "outputs": [],
      "source": [
        "import shap\n",
        "import torch\n",
        "import torch.nn.functional as F\n",
        "import numpy as np\n",
        "import matplotlib.pyplot as plt\n",
        "import pandas as pd\n",
        "\n",
        "# === Load dataset ===\n",
        "df = pd.read_csv(\"Allergen_test_1.csv\")\n",
        "df['sequence'] = df['sequence'].astype(str)\n",
        "df['label'] = df['Allergen']\n",
        "\n",
        "# Drop sequences with length smaller than 6 and create a new dataframe\n",
        "df = df[df['sequence'].str.len() >= 8].copy()\n",
        "\n",
        "# === Tokenization into k-mers ===\n",
        "def seq_to_kmers(seq, k=8):\n",
        "    return ' '.join([seq[i:i + k] for i in range(len(seq) - k + 1)])\n",
        "\n",
        "k = 6\n",
        "df['kmers'] = df['sequence'].apply(lambda seq: seq_to_kmers(seq, k))\n",
        "\n",
        "# === Helper to reconstruct full sequence from k-mers ===\n",
        "def kmers_to_seq(kmer_str, k=8):\n",
        "    kmers = kmer_str.split()\n",
        "    if not kmers:\n",
        "        return ''\n",
        "    return kmers[0] + ''.join([k[-1] for k in kmers[1:]])\n",
        "\n",
        "# === Prediction wrapper for SHAP ===\n",
        "class_names = ['non-Allergen', 'Allergen']\n",
        "\n",
        "def shap_predict_sequences(sequences):\n",
        "    model.eval()\n",
        "    with torch.no_grad():\n",
        "        esm_feats = extract_esm_embeddings(sequences)  # tensor [B, D]\n",
        "        onehot_seqs = sequence_to_onehot(sequences).float()  # tensor [B, L, 4]\n",
        "        outputs = model(esm_feats, onehot_seqs)\n",
        "        probs = F.softmax(outputs, dim=1).cpu().numpy()\n",
        "    return probs\n",
        "\n",
        "# === Select top-N high-confidence toxic sequences ===\n",
        "raw_sequences = df['sequence'].tolist()\n",
        "labels = df['label'].tolist()\n",
        "\n",
        "probs = shap_predict_sequences(raw_sequences)\n",
        "high_conf_ids = np.where((np.array(labels) == 0) & (probs[:, 1] > 0.8))[0]\n",
        "selected_ids = high_conf_ids[:40]\n",
        "\n",
        "# === Build SHAP DeepExplainer ===\n",
        "background_sequences = raw_sequences[:50]  # background sample\n",
        "background_esm = extract_esm_embeddings(background_sequences)\n",
        "background_onehot = sequence_to_onehot(background_sequences).float()\n",
        "\n",
        "# Wrap model forward pass for SHAP\n",
        "class WrapperModel(torch.nn.Module):\n",
        "    def __init__(self, model):\n",
        "        super().__init__()\n",
        "        self.model = model\n",
        "    def forward(self, esm_feats, onehot_seqs):\n",
        "        return self.model(esm_feats, onehot_seqs)\n",
        "\n",
        "wrapped_model = WrapperModel(model)\n",
        "explainer = shap.DeepExplainer(wrapped_model, [background_esm, background_onehot])\n",
        "\n",
        "# === Run SHAP explanations with k-mer mapping and text visualization ===\n",
        "for i, idx in enumerate(selected_ids):\n",
        "    original_seq = raw_sequences[idx]\n",
        "    kmer_tokens = seq_to_kmers(original_seq, k).split()\n",
        "\n",
        "    esm_feats = extract_esm_embeddings([original_seq])\n",
        "    onehot_seq = sequence_to_onehot([original_seq]).float()\n",
        "\n",
        "    shap_values = explainer.shap_values([esm_feats, onehot_seq], check_additivity=False)\n",
        "\n",
        "    # Focus on one-hot contribution (shap_values[1])\n",
        "    onehot_shap = shap_values[1][0]  # [L, 4]\n",
        "    token_scores = onehot_shap.max(axis=1)  # contribution per residue\n",
        "\n",
        "    # Map scores back to k-mers\n",
        "    kmer_scores = []\n",
        "    for j in range(len(kmer_tokens)):\n",
        "        start = j\n",
        "        end = j + k\n",
        "        kmer_score = np.mean(token_scores[start:end])\n",
        "        kmer_scores.append(kmer_score)\n",
        "\n",
        "    # Sort influential k-mers\n",
        "    top_indices = np.argsort(-np.abs(kmer_scores))[:10]\n",
        "    print(f\"\\n🧬 Sequence {i+1}: {original_seq}\")\n",
        "    print(\"Top influential k-mers (toward non-Allergen):\")\n",
        "    for j in top_indices:\n",
        "        print(f\"  {kmer_tokens[j]}: {kmer_scores[j]:.4f}\")\n",
        "\n",
        "    # Highlight in sequence\n",
        "    highlighted = original_seq\n",
        "    influential_kmers = [kmer_tokens[j] for j in top_indices]\n",
        "    for kmer_tok in influential_kmers:\n",
        "        highlighted = highlighted.replace(kmer_tok, f\"<{kmer_tok}>\")\n",
        "    print(\"Highlighted:\", highlighted)\n",
        "\n",
        "    # === Create SHAP Explanation object for text visualization ===\n",
        "    shap_exp = shap.Explanation(\n",
        "        values=np.array(kmer_scores),\n",
        "        data=np.array(kmer_tokens),\n",
        "        feature_names=kmer_tokens,\n",
        "        base_values=explainer.expected_value[1] if hasattr(explainer, 'expected_value') else 0\n",
        "    )\n",
        "\n",
        "    try:\n",
        "        shap.plots.text(shap_exp)\n",
        "    except Exception as e:\n",
        "        print(f\"Could not generate SHAP text plot for sequence {i+1}: {e}\")"
      ]
    },
    {
      "cell_type": "code",
      "execution_count": null,
      "metadata": {
        "id": "uIpFkkNBeGml",
        "outputId": "e89fb772-1511-4f91-f95f-04c0d4208f68"
      },
      "outputs": [
        {
          "name": "stdout",
          "output_type": "stream",
          "text": [
            "\n",
            "🧬 Sequence 1: MSWQTYVDDHLCCEIDGQHLTSAAILGHDGSVWTESPNFP\n",
            "Top influential k-mers (toward FRS):\n",
            "  HLTSAA: 0.0066\n",
            "  QHLTSA: 0.0061\n",
            "  GQHLTS: 0.0049\n",
            "  EIDGQH: 0.0041\n",
            "  IDGQHL: 0.0041\n",
            "  DGQHLT: 0.0041\n",
            "  DDHLCC: 0.0012\n",
            "  VDDHLC: 0.0012\n",
            "  YVDDHL: 0.0010\n",
            "  MSWQTY: -0.0010\n",
            "Highlighted: <MSWQTY>V<DDHLCC>EIDGQ<HLTSAA>ILGHDGSVWTESPNFP\n",
            "Could not generate SHAP plot for sequence 1: cannot convert float NaN to integer\n"
          ]
        },
        {
          "name": "stderr",
          "output_type": "stream",
          "text": [
            "/home/molecular16/.local/lib/python3.11/site-packages/shap/explainers/_deep/deep_pytorch.py:255: UserWarning: unrecognized nn.Module: LayerNorm\n",
            "  warnings.warn(f\"unrecognized nn.Module: {module_type}\")\n",
            "/home/molecular16/.local/lib/python3.11/site-packages/shap/explainers/_deep/deep_pytorch.py:255: UserWarning: unrecognized nn.Module: LSTM\n",
            "  warnings.warn(f\"unrecognized nn.Module: {module_type}\")\n",
            "/home/molecular16/.local/lib/python3.11/site-packages/shap/explainers/_deep/deep_pytorch.py:255: UserWarning: unrecognized nn.Module: Chomp1d\n",
            "  warnings.warn(f\"unrecognized nn.Module: {module_type}\")\n",
            "/home/molecular16/anaconda3/lib/python3.11/site-packages/numpy/core/fromnumeric.py:3464: RuntimeWarning: Mean of empty slice.\n",
            "  return _methods._mean(a, axis=axis, dtype=dtype,\n",
            "/home/molecular16/anaconda3/lib/python3.11/site-packages/numpy/core/_methods.py:192: RuntimeWarning: invalid value encountered in scalar divide\n",
            "  ret = ret.dtype.type(ret / rcount)\n"
          ]
        },
        {
          "ename": "AxisError",
          "evalue": "axis 1 is out of bounds for array of dimension 1",
          "output_type": "error",
          "traceback": [
            "\u001b[0;31m---------------------------------------------------------------------------\u001b[0m",
            "\u001b[0;31mAxisError\u001b[0m                                 Traceback (most recent call last)",
            "Cell \u001b[0;32mIn[24], line 80\u001b[0m\n\u001b[1;32m     77\u001b[0m onehot_shap \u001b[38;5;241m=\u001b[39m onehot_shap[\u001b[38;5;241m0\u001b[39m]   \u001b[38;5;66;03m# now [L, C]\u001b[39;00m\n\u001b[1;32m     79\u001b[0m \u001b[38;5;66;03m# Signed max-abs aggregation across channels\u001b[39;00m\n\u001b[0;32m---> 80\u001b[0m max_abs_idx \u001b[38;5;241m=\u001b[39m np\u001b[38;5;241m.\u001b[39margmax(np\u001b[38;5;241m.\u001b[39mabs(onehot_shap), axis\u001b[38;5;241m=\u001b[39m\u001b[38;5;241m1\u001b[39m)          \u001b[38;5;66;03m# [L]\u001b[39;00m\n\u001b[1;32m     81\u001b[0m seq_values \u001b[38;5;241m=\u001b[39m onehot_shap[np\u001b[38;5;241m.\u001b[39marange(onehot_shap\u001b[38;5;241m.\u001b[39mshape[\u001b[38;5;241m0\u001b[39m]), max_abs_idx]  \u001b[38;5;66;03m# [L]\u001b[39;00m\n\u001b[1;32m     83\u001b[0m \u001b[38;5;66;03m# Map residue scores back to k-mers by averaging over the window\u001b[39;00m\n",
            "File \u001b[0;32m<__array_function__ internals>:200\u001b[0m, in \u001b[0;36margmax\u001b[0;34m(*args, **kwargs)\u001b[0m\n",
            "File \u001b[0;32m~/anaconda3/lib/python3.11/site-packages/numpy/core/fromnumeric.py:1242\u001b[0m, in \u001b[0;36margmax\u001b[0;34m(a, axis, out, keepdims)\u001b[0m\n\u001b[1;32m   1155\u001b[0m \u001b[38;5;250m\u001b[39m\u001b[38;5;124;03m\"\"\"\u001b[39;00m\n\u001b[1;32m   1156\u001b[0m \u001b[38;5;124;03mReturns the indices of the maximum values along an axis.\u001b[39;00m\n\u001b[1;32m   1157\u001b[0m \n\u001b[0;32m   (...)\u001b[0m\n\u001b[1;32m   1239\u001b[0m \u001b[38;5;124;03m(2, 1, 4)\u001b[39;00m\n\u001b[1;32m   1240\u001b[0m \u001b[38;5;124;03m\"\"\"\u001b[39;00m\n\u001b[1;32m   1241\u001b[0m kwds \u001b[38;5;241m=\u001b[39m {\u001b[38;5;124m'\u001b[39m\u001b[38;5;124mkeepdims\u001b[39m\u001b[38;5;124m'\u001b[39m: keepdims} \u001b[38;5;28;01mif\u001b[39;00m keepdims \u001b[38;5;129;01mis\u001b[39;00m \u001b[38;5;129;01mnot\u001b[39;00m np\u001b[38;5;241m.\u001b[39m_NoValue \u001b[38;5;28;01melse\u001b[39;00m {}\n\u001b[0;32m-> 1242\u001b[0m \u001b[38;5;28;01mreturn\u001b[39;00m _wrapfunc(a, \u001b[38;5;124m'\u001b[39m\u001b[38;5;124margmax\u001b[39m\u001b[38;5;124m'\u001b[39m, axis\u001b[38;5;241m=\u001b[39maxis, out\u001b[38;5;241m=\u001b[39mout, \u001b[38;5;241m*\u001b[39m\u001b[38;5;241m*\u001b[39mkwds)\n",
            "File \u001b[0;32m~/anaconda3/lib/python3.11/site-packages/numpy/core/fromnumeric.py:57\u001b[0m, in \u001b[0;36m_wrapfunc\u001b[0;34m(obj, method, *args, **kwds)\u001b[0m\n\u001b[1;32m     54\u001b[0m     \u001b[38;5;28;01mreturn\u001b[39;00m _wrapit(obj, method, \u001b[38;5;241m*\u001b[39margs, \u001b[38;5;241m*\u001b[39m\u001b[38;5;241m*\u001b[39mkwds)\n\u001b[1;32m     56\u001b[0m \u001b[38;5;28;01mtry\u001b[39;00m:\n\u001b[0;32m---> 57\u001b[0m     \u001b[38;5;28;01mreturn\u001b[39;00m bound(\u001b[38;5;241m*\u001b[39margs, \u001b[38;5;241m*\u001b[39m\u001b[38;5;241m*\u001b[39mkwds)\n\u001b[1;32m     58\u001b[0m \u001b[38;5;28;01mexcept\u001b[39;00m \u001b[38;5;167;01mTypeError\u001b[39;00m:\n\u001b[1;32m     59\u001b[0m     \u001b[38;5;66;03m# A TypeError occurs if the object does have such a method in its\u001b[39;00m\n\u001b[1;32m     60\u001b[0m     \u001b[38;5;66;03m# class, but its signature is not identical to that of NumPy's. This\u001b[39;00m\n\u001b[0;32m   (...)\u001b[0m\n\u001b[1;32m     64\u001b[0m     \u001b[38;5;66;03m# Call _wrapit from within the except clause to ensure a potential\u001b[39;00m\n\u001b[1;32m     65\u001b[0m     \u001b[38;5;66;03m# exception has a traceback chain.\u001b[39;00m\n\u001b[1;32m     66\u001b[0m     \u001b[38;5;28;01mreturn\u001b[39;00m _wrapit(obj, method, \u001b[38;5;241m*\u001b[39margs, \u001b[38;5;241m*\u001b[39m\u001b[38;5;241m*\u001b[39mkwds)\n",
            "\u001b[0;31mAxisError\u001b[0m: axis 1 is out of bounds for array of dimension 1"
          ]
        }
      ],
      "source": [
        "import shap\n",
        "import torch\n",
        "import torch.nn.functional as F\n",
        "import numpy as np\n",
        "import matplotlib.pyplot as plt\n",
        "import pandas as pd\n",
        "\n",
        "# === Load dataset ===\n",
        "df = pd.read_csv(\"Allergen_test_1.csv\")\n",
        "df['sequence'] = df['sequence'].astype(str)\n",
        "df['label'] = df['Allergen']\n",
        "\n",
        "# Drop sequences with length smaller than 6 and create a new dataframe\n",
        "df = df[df['sequence'].str.len() >= 8].copy()\n",
        "\n",
        "# === Tokenization into k-mers ===\n",
        "def seq_to_kmers(seq, k=8):\n",
        "    return ' '.join([seq[i:i + k] for i in range(len(seq) - k + 1)])\n",
        "\n",
        "k = 6\n",
        "df['kmers'] = df['sequence'].apply(lambda seq: seq_to_kmers(seq, k))\n",
        "\n",
        "# === Helper to reconstruct full sequence from k-mers ===\n",
        "def kmers_to_seq(kmer_str, k=8):\n",
        "    kmers = kmer_str.split()\n",
        "    if not kmers:\n",
        "        return ''\n",
        "    return kmers[0] + ''.join([k[-1] for k in kmers[1:]])\n",
        "\n",
        "# === Prediction wrapper for SHAP ===\n",
        "class_names = ['non-Allergen', 'Allergen']\n",
        "\n",
        "def shap_predict_sequences(sequences):\n",
        "    model.eval()\n",
        "    with torch.no_grad():\n",
        "        esm_feats = extract_esm_embeddings(sequences)  # tensor [B, D]\n",
        "        onehot_seqs = sequence_to_onehot(sequences).float()  # tensor [B, L, 4]\n",
        "        outputs = model(esm_feats, onehot_seqs)\n",
        "        probs = F.softmax(outputs, dim=1).cpu().numpy()\n",
        "    return probs\n",
        "\n",
        "# === Select top-N high-confidence toxic sequences ===\n",
        "raw_sequences = df['sequence'].tolist()\n",
        "labels = df['label'].tolist()\n",
        "\n",
        "probs = shap_predict_sequences(raw_sequences)\n",
        "high_conf_ids = np.where((np.array(labels) == 1) & (probs[:, 1] > 0.8))[0]\n",
        "selected_ids = high_conf_ids[:40]\n",
        "\n",
        "# === Build SHAP DeepExplainer ===\n",
        "background_sequences = raw_sequences[:50]  # background sample\n",
        "background_esm = extract_esm_embeddings(background_sequences)\n",
        "background_onehot = sequence_to_onehot(background_sequences).float()\n",
        "\n",
        "# Wrap model forward pass for SHAP\n",
        "class WrapperModel(torch.nn.Module):\n",
        "    def __init__(self, model):\n",
        "        super().__init__()\n",
        "        self.model = model\n",
        "    def forward(self, esm_feats, onehot_seqs):\n",
        "        return self.model(esm_feats, onehot_seqs)\n",
        "\n",
        "wrapped_model = WrapperModel(model)\n",
        "explainer = shap.DeepExplainer(wrapped_model, [background_esm, background_onehot])\n",
        "\n",
        "# === Run SHAP explanations with k-mer mapping, text + bar + heatmap visualization ===\n",
        "for i, idx in enumerate(selected_ids):\n",
        "    original_seq = raw_sequences[idx]\n",
        "    kmer_tokens = seq_to_kmers(original_seq, k).split()\n",
        "\n",
        "    esm_feats = extract_esm_embeddings([original_seq])\n",
        "    onehot_seq = sequence_to_onehot([original_seq]).float()\n",
        "\n",
        "    shap_values = explainer.shap_values([esm_feats, onehot_seq], check_additivity=False)\n",
        "\n",
        "    # onehot_shap has shape [B, L, C] (batch, length, channels)\n",
        "    onehot_shap = onehot_shap[0]   # now [L, C]\n",
        "\n",
        "    # Signed max-abs aggregation across channels\n",
        "    max_abs_idx = np.argmax(np.abs(onehot_shap), axis=1)          # [L]\n",
        "    seq_values = onehot_shap[np.arange(onehot_shap.shape[0]), max_abs_idx]  # [L]\n",
        "\n",
        "    # Map residue scores back to k-mers by averaging over the window\n",
        "    kmer_scores = []\n",
        "    for j in range(len(kmer_tokens)):\n",
        "        start = j\n",
        "        end = j + k\n",
        "        kmer_scores.append(np.mean(seq_values[start:end]))\n",
        "    kmer_scores = np.array(kmer_scores)\n",
        "\n",
        "    # Sort influential k-mers\n",
        "    top_indices = np.argsort(-np.abs(kmer_scores))[:10]\n",
        "    print(f\"\\n🧬 Sequence {i+1}: {original_seq}\")\n",
        "    print(\"Top influential k-mers (toward FRS):\")\n",
        "    for j in top_indices:\n",
        "        print(f\"  {kmer_tokens[j]}: {kmer_scores[j]:.4f}\")\n",
        "\n",
        "    # Highlight in sequence\n",
        "    highlighted = original_seq\n",
        "    influential_kmers = [kmer_tokens[j] for j in top_indices]\n",
        "    for kmer_tok in influential_kmers:\n",
        "        highlighted = highlighted.replace(kmer_tok, f\"<{kmer_tok}>\")\n",
        "    print(\"Highlighted:\", highlighted)\n",
        "\n",
        "    # === Create SHAP Explanation object ===\n",
        "    shap_exp = shap.Explanation(\n",
        "        values=kmer_scores,\n",
        "        data=np.array(kmer_tokens),\n",
        "        feature_names=kmer_tokens,\n",
        "        base_values=explainer.expected_value[1] if hasattr(explainer, 'expected_value') else 0\n",
        "    )\n",
        "\n",
        "    try:\n",
        "        # Text visualization\n",
        "        shap.plots.text(shap_exp)\n",
        "\n",
        "        # Bar visualization\n",
        "        shap.plots.bar(shap_exp, max_display=10)\n",
        "\n",
        "        # --- Residue-level SHAP heatmap (matplotlib only) ---\n",
        "        vmax = max(1e-9, np.max(np.abs(seq_values)))\n",
        "        fig, ax = plt.subplots(figsize=(max(6, len(original_seq) * 0.18), 1.8))\n",
        "        im = ax.imshow(seq_values[np.newaxis, :], aspect='auto', cmap='coolwarm', vmin=-vmax, vmax=vmax)\n",
        "        ax.set_yticks([0])\n",
        "        ax.set_yticklabels(['SHAP'])\n",
        "        ax.set_xticks(range(len(original_seq)))\n",
        "        ax.set_xticklabels(list(original_seq), rotation=90, fontsize=8)\n",
        "        plt.title(f\"Residue-level SHAP Heatmap (Sequence {i+1})\")\n",
        "        plt.colorbar(im, ax=ax, fraction=0.046, pad=0.04)\n",
        "        plt.tight_layout()\n",
        "        plt.show()\n",
        "\n",
        "    except Exception as e:\n",
        "        print(f\"Could not generate SHAP plot for sequence {i+1}: {e}\")"
      ]
    },
    {
      "cell_type": "code",
      "execution_count": null,
      "metadata": {
        "id": "hHzdllUseGmm"
      },
      "outputs": [],
      "source": []
    }
  ],
  "metadata": {
    "colab": {
      "provenance": []
    },
    "kernelspec": {
      "display_name": "Python 3 (ipykernel)",
      "language": "python",
      "name": "python3"
    },
    "language_info": {
      "codemirror_mode": {
        "name": "ipython",
        "version": 3
      },
      "file_extension": ".py",
      "mimetype": "text/x-python",
      "name": "python",
      "nbconvert_exporter": "python",
      "pygments_lexer": "ipython3",
      "version": "3.11.5"
    }
  },
  "nbformat": 4,
  "nbformat_minor": 0
}